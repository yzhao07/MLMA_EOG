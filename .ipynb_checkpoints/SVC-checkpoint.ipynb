{
 "cells": [
  {
   "cell_type": "code",
   "execution_count": 65,
   "id": "7f75e267",
   "metadata": {},
   "outputs": [],
   "source": [
    "# import libraries\n",
    "import numpy as np\n",
    "import pickle\n",
    "import os\n",
    "import pandas as pd\n",
    "import pathlib\n",
    "import matplotlib.pyplot as plt\n",
    "%matplotlib inline\n",
    "import random\n",
    "import librosa\n",
    "from scipy.stats import kurtosis, skew\n",
    "from sklearn import svm\n",
    "import warnings\n",
    "from sklearn.model_selection import train_test_split\n",
    "from sklearn.preprocessing import StandardScaler\n",
    "from sklearn.metrics import balanced_accuracy_score,accuracy_score\n",
    "from sklearn.preprocessing import MinMaxScaler\n",
    "warnings.filterwarnings('ignore')\n"
   ]
  },
  {
   "cell_type": "code",
   "execution_count": 77,
   "id": "3166f4e5",
   "metadata": {},
   "outputs": [],
   "source": [
    "# get data\n",
    "def get_original_feature_label(path):\n",
    "    scaler = MinMaxScaler()\n",
    "    feature = []\n",
    "    label = []\n",
    "    for i in os.listdir(path):\n",
    "        a = pd.read_csv(str(path+i),names=[\"vertical\",\"horizontal\"])\n",
    "        a = np.array(a)\n",
    "        a = scaler.fit_transform(a)\n",
    "        #print(str(\"../data/isolated 2/001/isolated_strokes/\"+i))\n",
    "        f = []\n",
    "        for j in a[:,0]:\n",
    "            f.append(j)\n",
    "        for j in a[:,1]:\n",
    "            f.append(j)\n",
    "        feature.append(f)\n",
    "        if i.endswith(\"001.csv\"):\n",
    "            label.append(0)\n",
    "        elif i.endswith(\"002.csv\"):\n",
    "            label.append(1)\n",
    "        elif i.endswith(\"003.csv\"):\n",
    "            label.append(2)\n",
    "        elif i.endswith(\"004.csv\"):\n",
    "            label.append(3)\n",
    "        elif i.endswith(\"005.csv\"):\n",
    "            label.append(4)\n",
    "        elif i.endswith(\"006.csv\"):\n",
    "            label.append(5)\n",
    "        elif i.endswith(\"007.csv\"):\n",
    "            label.append(6)\n",
    "        elif i.endswith(\"008.csv\"):\n",
    "            label.append(7)\n",
    "        elif i.endswith(\"009.csv\"):\n",
    "            label.append(8)\n",
    "        elif i.endswith(\"010.csv\"):\n",
    "            label.append(9)\n",
    "        elif i.endswith(\"011.csv\"):\n",
    "            label.append(10)\n",
    "        elif i.endswith(\"012.csv\"):\n",
    "            label.append(11)\n",
    "    feature = np.array(feature)\n",
    "    label = np.array(label)\n",
    "    \n",
    "    return feature,label"
   ]
  },
  {
   "cell_type": "code",
   "execution_count": 78,
   "id": "f8563e5d",
   "metadata": {},
   "outputs": [],
   "source": [
    "# train test split 8:2 \n",
    "def my_train_split(label,feature):\n",
    "    X_test = []\n",
    "    X_train = []\n",
    "    y_train = []\n",
    "    y_test = []\n",
    "\n",
    "    for i in range(12):\n",
    "        id = np.where(label==i)\n",
    "        tmplabel = label[id]\n",
    "        tmpfeature = feature[id]\n",
    "        tmpX_train, tmpX_test, tmpy_train, tmpy_test = train_test_split(tmpfeature, tmplabel, test_size=0.2, random_state=42)\n",
    "        for j in range(len(tmpy_train)):\n",
    "            X_train.append(tmpX_train[j])\n",
    "            y_train.append(tmpy_train[j])\n",
    "        for j in range(len(tmpy_test)):\n",
    "            X_test.append(tmpX_test[j])\n",
    "            y_test.append(tmpy_test[j])\n",
    "    return X_train,X_test,y_train,y_test\n",
    "    \n"
   ]
  },
  {
   "cell_type": "markdown",
   "id": "5db385da",
   "metadata": {},
   "source": [
    "## patient 0"
   ]
  },
  {
   "cell_type": "code",
   "execution_count": 81,
   "id": "e0ff132c",
   "metadata": {},
   "outputs": [
    {
     "data": {
      "text/plain": [
       "0.9166666666666666"
      ]
     },
     "execution_count": 81,
     "metadata": {},
     "output_type": "execute_result"
    }
   ],
   "source": [
    "feature,label = get_original_feature_label(\"../data/isolated 2/001/isolated_strokes/\")\n",
    "# train_test_split\n",
    "X_train,X_test,y_train,y_test = my_train_split(label,feature)\n",
    "# build model\n",
    "clf = svm.SVC()\n",
    "clf.fit(X_train, y_train)\n",
    "y_pred = clf.predict(X_test)\n",
    "accuracy_score(y_test, y_pred)"
   ]
  },
  {
   "cell_type": "code",
   "execution_count": null,
   "id": "6108411a",
   "metadata": {},
   "outputs": [],
   "source": []
  },
  {
   "cell_type": "code",
   "execution_count": 80,
   "id": "2267cb23",
   "metadata": {},
   "outputs": [
    {
     "data": {
      "text/plain": [
       "((120, 2500), (120,))"
      ]
     },
     "execution_count": 80,
     "metadata": {},
     "output_type": "execute_result"
    }
   ],
   "source": [
    "feature.shape,label.shape\n",
    "# scale\n",
    "# feature = StandardScaler().fit_transform(feature)\n",
    "# feature.shape,label.shape"
   ]
  },
  {
   "cell_type": "code",
   "execution_count": 52,
   "id": "07aed87f",
   "metadata": {},
   "outputs": [
    {
     "data": {
      "text/plain": [
       "(-8.450085497148422, 8.327724345084027)"
      ]
     },
     "execution_count": 52,
     "metadata": {},
     "output_type": "execute_result"
    }
   ],
   "source": [
    "np.min(feature),np.max(feature)"
   ]
  },
  {
   "cell_type": "code",
   "execution_count": 53,
   "id": "85022542",
   "metadata": {},
   "outputs": [],
   "source": []
  },
  {
   "cell_type": "code",
   "execution_count": 54,
   "id": "9ad0379f",
   "metadata": {},
   "outputs": [
    {
     "data": {
      "text/plain": [
       "((96, 2500), (24, 2500))"
      ]
     },
     "execution_count": 54,
     "metadata": {},
     "output_type": "execute_result"
    }
   ],
   "source": [
    "X_train.shape,X_test.shape"
   ]
  },
  {
   "cell_type": "code",
   "execution_count": null,
   "id": "e0401019",
   "metadata": {},
   "outputs": [],
   "source": []
  },
  {
   "cell_type": "code",
   "execution_count": null,
   "id": "168c9f75",
   "metadata": {},
   "outputs": [],
   "source": [
    "\n"
   ]
  },
  {
   "cell_type": "code",
   "execution_count": null,
   "id": "2c31c583",
   "metadata": {},
   "outputs": [],
   "source": []
  },
  {
   "cell_type": "code",
   "execution_count": 55,
   "id": "39f3c6f0",
   "metadata": {},
   "outputs": [
    {
     "data": {
      "text/plain": [
       "(array([ 4,  0, 11,  1,  2,  2,  3, 11,  4,  4,  5,  5,  6,  6,  7,  7,  8,\n",
       "         8,  9,  3,  6, 10, 11, 11]),\n",
       " array([ 3,  4,  3,  3,  2,  3, 11,  6,  1,  2, 10, 10,  1,  5,  1,  6,  1,\n",
       "         7,  7,  6,  0,  9,  9,  1]))"
      ]
     },
     "execution_count": 55,
     "metadata": {},
     "output_type": "execute_result"
    }
   ],
   "source": [
    "y_pred,y_test"
   ]
  },
  {
   "cell_type": "code",
   "execution_count": 56,
   "id": "ce40af62",
   "metadata": {},
   "outputs": [],
   "source": [
    "def my_train_split(label,feature):\n",
    "    X_test = []\n",
    "    X_train = []\n",
    "    y_train = []\n",
    "    y_test = []\n",
    "\n",
    "    for i in range(12):\n",
    "        id = np.where(label==i)\n",
    "        tmplabel = label[id]\n",
    "        tmpfeature = feature[id]\n",
    "        tmpX_train, tmpX_test, tmpy_train, tmpy_test = train_test_split(tmpfeature, tmplabel, test_size=0.2, random_state=42)\n",
    "        for j in range(len(tmpy_train)):\n",
    "            X_train.append(tmpX_train[j])\n",
    "            y_train.append(tmpy_train[j])\n",
    "        for j in range(len(tmpy_test)):\n",
    "            X_test.append(tmpX_test[j])\n",
    "            y_test.append(tmpy_test[j])\n",
    "    return X_train,X_test,y_train,y_test\n",
    "    \n"
   ]
  },
  {
   "cell_type": "code",
   "execution_count": 57,
   "id": "6b8c31bb",
   "metadata": {},
   "outputs": [],
   "source": []
  },
  {
   "cell_type": "code",
   "execution_count": 58,
   "id": "a576a859",
   "metadata": {},
   "outputs": [
    {
     "data": {
      "text/plain": [
       "0.75"
      ]
     },
     "execution_count": 58,
     "metadata": {},
     "output_type": "execute_result"
    }
   ],
   "source": []
  },
  {
   "cell_type": "code",
   "execution_count": 59,
   "id": "b3ea3af0",
   "metadata": {},
   "outputs": [
    {
     "data": {
      "text/plain": [
       "(array([ 0,  4,  1,  1,  2,  2,  3,  3,  4,  4,  5,  5, 10,  6,  7,  7,  8,\n",
       "         8,  9,  3,  6,  6,  1, 11]),\n",
       " [0, 0, 1, 1, 2, 2, 3, 3, 4, 4, 5, 5, 6, 6, 7, 7, 8, 8, 9, 9, 10, 10, 11, 11])"
      ]
     },
     "execution_count": 59,
     "metadata": {},
     "output_type": "execute_result"
    }
   ],
   "source": [
    "y_pred,y_test"
   ]
  },
  {
   "cell_type": "code",
   "execution_count": null,
   "id": "71f368e1",
   "metadata": {},
   "outputs": [],
   "source": []
  }
 ],
 "metadata": {
  "kernelspec": {
   "display_name": "Python 3 (ipykernel)",
   "language": "python",
   "name": "python3"
  },
  "language_info": {
   "codemirror_mode": {
    "name": "ipython",
    "version": 3
   },
   "file_extension": ".py",
   "mimetype": "text/x-python",
   "name": "python",
   "nbconvert_exporter": "python",
   "pygments_lexer": "ipython3",
   "version": "3.9.12"
  }
 },
 "nbformat": 4,
 "nbformat_minor": 5
}
