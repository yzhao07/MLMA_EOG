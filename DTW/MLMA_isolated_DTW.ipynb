{
  "nbformat": 4,
  "nbformat_minor": 0,
  "metadata": {
    "colab": {
      "provenance": []
    },
    "kernelspec": {
      "name": "python3",
      "display_name": "Python 3"
    },
    "language_info": {
      "name": "python"
    }
  },
  "cells": [
    {
      "cell_type": "code",
      "execution_count": 2,
      "metadata": {
        "colab": {
          "base_uri": "https://localhost:8080/"
        },
        "id": "1C1rfHQCQtf2",
        "outputId": "d04116ca-537f-47e5-95da-2ba0ca6ccccd"
      },
      "outputs": [
        {
          "output_type": "stream",
          "name": "stdout",
          "text": [
            "Looking in indexes: https://pypi.org/simple, https://us-python.pkg.dev/colab-wheels/public/simple/\n",
            "Requirement already satisfied: dtaidistance in /usr/local/lib/python3.9/dist-packages (2.3.10)\n",
            "Requirement already satisfied: numpy in /usr/local/lib/python3.9/dist-packages (from dtaidistance) (1.22.4)\n"
          ]
        }
      ],
      "source": [
        "!pip install dtaidistance\n",
        "from dtaidistance import dtw\n",
        "from dtaidistance import dtw_visualisation as dtwvis\n",
        "import numpy as np\n",
        "import pickle\n",
        "import os\n",
        "import pandas as pd\n",
        "import random\n",
        "import librosa\n",
        "from scipy.stats import kurtosis, skew\n",
        "import warnings\n",
        "from sklearn.model_selection import train_test_split\n",
        "from sklearn.metrics import accuracy_score,f1_score,confusion_matrix,roc_auc_score,ConfusionMatrixDisplay,precision_score,recall_score\n",
        "from preprocess import preprocess"
      ]
    },
    {
      "cell_type": "code",
      "source": [
        "# get file list for 1 patient\n",
        "def get_file_list(path):\n",
        "  file_list = []\n",
        "  label = []\n",
        "  for i in os.listdir(path):\n",
        "    if i[0] == 'E':\n",
        "      file_list.append(i)\n",
        "      l = int(i.split(\"_\")[-1].split(\".\")[0])-1\n",
        "      label.append(l)\n",
        "  return label,file_list"
      ],
      "metadata": {
        "id": "RjH9XAEuQ6I3"
      },
      "execution_count": 3,
      "outputs": []
    },
    {
      "cell_type": "code",
      "source": [
        "# get feature from 1 file and preprocess\n",
        "def get_feature(path):\n",
        "    f = []\n",
        "    a = pd.read_csv(path,names=[\"vertical\",\"horizontal\"])\n",
        "    a = np.array(a)\n",
        "    #print(a.shape)\n",
        "    a = preprocess(a)\n",
        "    for j in a[:,0]:\n",
        "        f.append(j)        \n",
        "    for j in a[:,1]:\n",
        "        f.append(j)\n",
        "    return f"
      ],
      "metadata": {
        "id": "xBGn0BcbRs0L"
      },
      "execution_count": 4,
      "outputs": []
    },
    {
      "cell_type": "code",
      "source": [
        "# self identified test_split\n",
        "def my_train_test_split_user_dependent(path,test_split,val_split,file_list,label):\n",
        "    X_test = []\n",
        "    X_train = []\n",
        "    X_val = []\n",
        "    y_val = []\n",
        "    y_train = []\n",
        "    y_test = []\n",
        "    for f in range(len(file_list)):\n",
        "        file = file_list[f]\n",
        "        file_label = label[f]\n",
        "        #print(file)\n",
        "        feature = get_feature(str(path+file))\n",
        "        #print(file.split('_')[2],file_label)\n",
        "        if file.split('_')[2] in test_split:\n",
        "            X_test.append(feature)\n",
        "            y_test.append(file_label)\n",
        "            #print(file,len(feature))\n",
        "        elif file.split('_')[2] == val_split:\n",
        "            X_val.append(feature)\n",
        "            y_val.append(file_label)\n",
        "        else:\n",
        "            X_train.append(feature)\n",
        "            y_train.append(file_label)\n",
        "            #print(file)\n",
        "\n",
        "\n",
        "    X_train = np.array(X_train)\n",
        "    X_test = np.array(X_test)\n",
        "    X_val = np.array(X_val)\n",
        "    y_train = np.array(y_train)\n",
        "    y_val = np.array(y_val)\n",
        "    y_test = np.array(y_test)\n",
        "\n",
        "    \n",
        "    return X_train,X_test,X_val,y_val, y_train,y_test"
      ],
      "metadata": {
        "id": "qi7FWP-LWZg-"
      },
      "execution_count": 5,
      "outputs": []
    },
    {
      "cell_type": "code",
      "source": [
        "def evaluate(y_true, y_pred):\n",
        "    f1_micro = f1_score(y_true, y_pred,average = 'micro')\n",
        "    f1_macro = f1_score(y_true, y_pred,average = 'macro')\n",
        "    precision_micro = precision_score(y_true, y_pred, average='micro')\n",
        "    precision_macro = precision_score(y_true, y_pred, average='macro')\n",
        "    recall_micro = recall_score(y_true, y_pred, average='micro')\n",
        "    recall_macro = recall_score(y_true, y_pred, average='macro')\n",
        "    acc = accuracy_score(y_true, y_pred)\n",
        "\n",
        "    return f1_micro,f1_macro,precision_micro,precision_macro,recall_micro,recall_macro,acc"
      ],
      "metadata": {
        "id": "gxmMZE4QRwoe"
      },
      "execution_count": 6,
      "outputs": []
    },
    {
      "cell_type": "markdown",
      "source": [
        "# User dependent"
      ],
      "metadata": {
        "id": "e0TEpUVjRxi7"
      }
    },
    {
      "cell_type": "code",
      "source": [
        "patient = [\"001\",\"002\",\"003\",\"004\",\"005\",\"006\"]\n",
        "test_split = [[\"01\",\"02\"],[\"03\",\"04\"],[\"05\",\"06\"],[\"07\",\"08\"],[\"09\",\"10\"]]\n",
        "val_split = ['03','01',\"04\",\"05\",\"06\"]"
      ],
      "metadata": {
        "id": "owezGA-uR10d"
      },
      "execution_count": 7,
      "outputs": []
    },
    {
      "cell_type": "code",
      "source": [
        "class DTW_clf():\n",
        "  def __init__(self, template, num_class):\n",
        "    self.template = template\n",
        "    self.num_class = num_class\n",
        "\n",
        "  def train(self, X, y):\n",
        "    for i in range(X.shape[0]):\n",
        "      label = y[i]\n",
        "      self.template[label].append(list(X[i,:]))\n",
        "\n",
        "  def predict(self, X):\n",
        "    class_dist = np.zeros(self.num_class)\n",
        "    for k in range(self.num_class):\n",
        "      count = 0\n",
        "      distance = 0\n",
        "      for templ in self.template[k]:\n",
        "        s1 = np.array(templ)\n",
        "        distance += dtw.distance_fast(s1, X,use_pruning=True)\n",
        "        count += 1\n",
        "      class_dist[k] = distance/count\n",
        "    predicted_class = np.argmin(class_dist)\n",
        "    return predicted_class"
      ],
      "metadata": {
        "id": "BA5D95jLSHZD"
      },
      "execution_count": 8,
      "outputs": []
    },
    {
      "cell_type": "code",
      "source": [
        "for p in patient:\n",
        "  path = str(\"drive/MyDrive/Colab_Notebooks/EOG_data/isolated/\"+p+\"/isolated_strokes/\")\n",
        "  label,file_list = get_file_list(path)\n",
        "  val_pred = []\n",
        "  val_label = []\n",
        "  test_pred = []\n",
        "  test_label = []\n",
        "  num_class = 12\n",
        "  for t in range(len(val_split)):\n",
        "    X_train,X_test,X_val,y_val, y_train,y_test= my_train_test_split_user_dependent(path,test_split[t],val_split[t],file_list,label)\n",
        "    clf_list = []\n",
        "    template = dict({})\n",
        "    for i in range(num_class):\n",
        "      template[i] = []\n",
        "    clf = DTW_clf(template=template, num_class=num_class)\n",
        "    clf.train(X_train, y_train)\n",
        "    for j in range(X_val.shape[0]):\n",
        "      val_pred.append(clf.predict(X_val[j,:]))\n",
        "      val_label.append(y_val[j])\n",
        "    for j in range(X_test.shape[0]):\n",
        "      test_pred.append(clf.predict(X_test[j,:]))\n",
        "      test_label.append(y_test[j])\n",
        "  val_pred = np.array(val_pred)\n",
        "  val_label = np.array(val_label)\n",
        "  test_pred = np.array(test_pred)\n",
        "  test_label = np.array(test_label)\n",
        "  val_f1_micro,val_f1_macro,val_precision_micro,val_precision_macro,val_recall_micro,val_recall_macro,val_acc = evaluate(val_label,val_pred)\n",
        "  test_f1_micro,test_f1_macro,test_precision_micro,test_precision_macro,test_recall_micro,test_recall_macro,test_acc = evaluate(test_label,test_pred)\n",
        "  print(\"patient id:\", p)\n",
        "  print(\"validation f1 micro:\", val_f1_micro)\n",
        "  print(\"validation f1 macro:\", val_f1_macro)\n",
        "  print(\"validation precision micro\", val_precision_micro)\n",
        "  print(\"validation precision macro\", val_precision_macro)\n",
        "  print(\"validation recall micro\", val_recall_micro)\n",
        "  print(\"validation recall macro\", val_recall_macro)\n",
        "  print(\"validation accuracy\", val_acc)\n",
        "  print(\"test f1 micro:\", test_f1_micro)\n",
        "  print(\"test f1 macro:\", test_f1_macro)\n",
        "  print(\"test precision micro\", test_precision_micro)\n",
        "  print(\"test precision macro\", test_precision_macro)\n",
        "  print(\"test recall micro\", test_recall_micro)\n",
        "  print(\"test recall macro\", test_recall_macro)\n",
        "  print(\"test accuracy\", test_acc)\n",
        "  with open(str(\"DTW__sub\"+p+\".pck\"), \"wb\") as output_file:\n",
        "    pickle.dump(clf, output_file)"
      ],
      "metadata": {
        "colab": {
          "base_uri": "https://localhost:8080/"
        },
        "id": "6AeIEFsigeW6",
        "outputId": "61a43005-20cf-4cae-bd33-f8cfd2fdd4e6"
      },
      "execution_count": 15,
      "outputs": [
        {
          "output_type": "stream",
          "name": "stdout",
          "text": [
            "patient id: 001\n",
            "validation f1 micro: 0.7166666666666667\n",
            "validation f1 macro: 0.6851343101343103\n",
            "validation precision micro 0.7166666666666667\n",
            "validation precision macro 0.7273478835978836\n",
            "validation recall micro 0.7166666666666667\n",
            "validation recall macro 0.7166666666666667\n",
            "validation accuracy 0.7166666666666667\n",
            "test f1 micro: 0.775\n",
            "test f1 macro: 0.7469248158102649\n",
            "test precision micro 0.775\n",
            "test precision macro 0.809352453102453\n",
            "test recall micro 0.775\n",
            "test recall macro 0.775\n",
            "test accuracy 0.775\n",
            "patient id: 002\n",
            "validation f1 micro: 0.7166666666666667\n",
            "validation f1 macro: 0.6883523883523885\n",
            "validation precision micro 0.7166666666666667\n",
            "validation precision macro 0.8011574074074076\n",
            "validation recall micro 0.7166666666666667\n",
            "validation recall macro 0.7166666666666667\n",
            "validation accuracy 0.7166666666666667\n",
            "test f1 micro: 0.7166666666666667\n",
            "test f1 macro: 0.6826206402293359\n",
            "test precision micro 0.7166666666666667\n",
            "test precision macro 0.7720425407925409\n",
            "test recall micro 0.7166666666666667\n",
            "test recall macro 0.7166666666666667\n",
            "test accuracy 0.7166666666666667\n"
          ]
        },
        {
          "output_type": "stream",
          "name": "stderr",
          "text": [
            "/usr/local/lib/python3.9/dist-packages/sklearn/metrics/_classification.py:1344: UndefinedMetricWarning: Precision is ill-defined and being set to 0.0 in labels with no predicted samples. Use `zero_division` parameter to control this behavior.\n",
            "  _warn_prf(average, modifier, msg_start, len(result))\n"
          ]
        },
        {
          "output_type": "stream",
          "name": "stdout",
          "text": [
            "patient id: 003\n",
            "validation f1 micro: 0.5833333333333334\n",
            "validation f1 macro: 0.5371933621933621\n",
            "validation precision micro 0.5833333333333334\n",
            "validation precision macro 0.5202380952380952\n",
            "validation recall micro 0.5833333333333334\n",
            "validation recall macro 0.5833333333333334\n",
            "validation accuracy 0.5833333333333334\n",
            "test f1 micro: 0.6\n",
            "test f1 macro: 0.5551165858390922\n",
            "test precision micro 0.6\n",
            "test precision macro 0.5506507381507382\n",
            "test recall micro 0.6\n",
            "test recall macro 0.6000000000000001\n",
            "test accuracy 0.6\n"
          ]
        },
        {
          "output_type": "stream",
          "name": "stderr",
          "text": [
            "/usr/local/lib/python3.9/dist-packages/sklearn/metrics/_classification.py:1344: UndefinedMetricWarning: Precision is ill-defined and being set to 0.0 in labels with no predicted samples. Use `zero_division` parameter to control this behavior.\n",
            "  _warn_prf(average, modifier, msg_start, len(result))\n",
            "/usr/local/lib/python3.9/dist-packages/sklearn/metrics/_classification.py:1344: UndefinedMetricWarning: Precision is ill-defined and being set to 0.0 in labels with no predicted samples. Use `zero_division` parameter to control this behavior.\n",
            "  _warn_prf(average, modifier, msg_start, len(result))\n"
          ]
        },
        {
          "output_type": "stream",
          "name": "stdout",
          "text": [
            "patient id: 004\n",
            "validation f1 micro: 0.5\n",
            "validation f1 macro: 0.42344599844599845\n",
            "validation precision micro 0.5\n",
            "validation precision macro 0.39652777777777776\n",
            "validation recall micro 0.5\n",
            "validation recall macro 0.5\n",
            "validation accuracy 0.5\n",
            "test f1 micro: 0.4166666666666667\n",
            "test f1 macro: 0.3398363929898227\n",
            "test precision micro 0.4166666666666667\n",
            "test precision macro 0.3327892116317164\n",
            "test recall micro 0.4166666666666667\n",
            "test recall macro 0.4166666666666667\n",
            "test accuracy 0.4166666666666667\n",
            "patient id: 005\n",
            "validation f1 micro: 0.6833333333333333\n",
            "validation f1 macro: 0.6727906352906352\n",
            "validation precision micro 0.6833333333333333\n",
            "validation precision macro 0.7552579365079364\n",
            "validation recall micro 0.6833333333333333\n",
            "validation recall macro 0.6833333333333332\n",
            "validation accuracy 0.6833333333333333\n",
            "test f1 micro: 0.6890756302521008\n",
            "test f1 macro: 0.6844776434159375\n",
            "test precision micro 0.6890756302521008\n",
            "test precision macro 0.7674680704285967\n",
            "test recall micro 0.6890756302521008\n",
            "test recall macro 0.688888888888889\n",
            "test accuracy 0.6890756302521008\n",
            "patient id: 006\n",
            "validation f1 micro: 0.8666666666666667\n",
            "validation f1 macro: 0.8636849261849262\n",
            "validation precision micro 0.8666666666666667\n",
            "validation precision macro 0.9027777777777778\n",
            "validation recall micro 0.8666666666666667\n",
            "validation recall macro 0.8666666666666667\n",
            "validation accuracy 0.8666666666666667\n",
            "test f1 micro: 0.8333333333333334\n",
            "test f1 macro: 0.8242975824497564\n",
            "test precision micro 0.8333333333333334\n",
            "test precision macro 0.8584748584748585\n",
            "test recall micro 0.8333333333333334\n",
            "test recall macro 0.8333333333333334\n",
            "test accuracy 0.8333333333333334\n"
          ]
        }
      ]
    },
    {
      "cell_type": "markdown",
      "source": [
        "# User Independent"
      ],
      "metadata": {
        "id": "EpfWE65VInvI"
      }
    },
    {
      "cell_type": "code",
      "source": [
        "# self identified test_split\n",
        "def my_train_test_split_user_independent(test_patient,val_patient,train_patient):\n",
        "    X_test = []\n",
        "    X_train = []\n",
        "    X_val = []\n",
        "    y_val = []\n",
        "    y_train = []\n",
        "    y_test = []\n",
        "    for p in train_patient:\n",
        "        path = str(\"drive/MyDrive/Colab_Notebooks/EOG_data/isolated/\"+p+\"/isolated_strokes/\")\n",
        "        label,file_list = get_file_list(path)\n",
        "        for i in range(len(file_list)):\n",
        "            file_p = file_list[i]\n",
        "            file_label = label[i]\n",
        "            feature = get_feature(str(path+file_p))\n",
        "            X_train.append(feature)\n",
        "            y_train.append(file_label)\n",
        "        \n",
        "    path = str(\"drive/MyDrive/Colab_Notebooks/EOG_data/isolated/\"+test_patient+\"/isolated_strokes/\")\n",
        "    label,file_list = get_file_list(path)\n",
        "    for i in range(len(file_list)):\n",
        "        file_p = file_list[i]\n",
        "        file_label = label[i]\n",
        "        feature = get_feature(str(path+file_p))\n",
        "        X_test.append(feature)\n",
        "        y_test.append(file_label)\n",
        "    \n",
        "    path = str(\"drive/MyDrive/Colab_Notebooks/EOG_data/isolated/\"+val_patient+\"/isolated_strokes/\")\n",
        "    label,file_list = get_file_list(path)\n",
        "    for i in range(len(file_list)):\n",
        "        file_p = file_list[i]\n",
        "        file_label = label[i]\n",
        "        feature = get_feature(str(path+file_p))\n",
        "        X_val.append(feature)\n",
        "        y_val.append(file_label)\n",
        "\n",
        "    X_train = np.array(X_train)\n",
        "    X_test = np.array(X_test)\n",
        "    y_train = np.array(y_train)\n",
        "    y_test = np.array(y_test)\n",
        "    X_val = np.array(X_val)\n",
        "    y_val = np.array(y_val)\n",
        "    return X_train,X_test, X_val,y_val,y_train,y_test"
      ],
      "metadata": {
        "id": "iaCKHgV6K8u8"
      },
      "execution_count": 10,
      "outputs": []
    },
    {
      "cell_type": "code",
      "source": [
        "test_patien_list = [\"001\",\"002\",\"003\",\"004\",\"005\",\"006\"]\n",
        "val_patient_list = [\"002\",\"003\",\"004\",\"005\",\"006\",\"001\"]\n",
        "val_pred_all = []\n",
        "val_label_all = []\n",
        "test_pred_all = []\n",
        "test_label_all = []\n",
        "\n",
        "for t in range(len(test_patien_list)):\n",
        "  train_patient= [\"001\",\"002\",\"003\",\"004\",\"005\",\"006\"]\n",
        "  test_patient = test_patien_list[t]\n",
        "  val_patient = val_patient_list[t]\n",
        "  train_patient.remove(test_patient)\n",
        "  train_patient.remove(val_patient)\n",
        "  X_train,X_test, X_val,y_val,y_train,y_test = my_train_test_split_user_independent(test_patient,val_patient,train_patient)\n",
        "\n",
        "  val_pred = []\n",
        "  val_label = []\n",
        "  test_pred = []\n",
        "  test_label = []\n",
        "  num_class = 12\n",
        "  template = dict({})\n",
        "  for i in range(num_class):\n",
        "    template[i] = []\n",
        "  clf = DTW_clf(template=template, num_class=num_class)\n",
        "  clf.train(X_train, y_train)\n",
        "  for j in range(X_val.shape[0]):\n",
        "    val_pred.append(clf.predict(X_val[j,:]))\n",
        "    val_label.append(y_val[j])\n",
        "  for j in range(X_test.shape[0]):\n",
        "    test_pred.append(clf.predict(X_test[j,:]))\n",
        "    test_label.append(y_test[j])\n",
        "  val_pred_all.extend(val_pred)\n",
        "  val_label_all.extend(val_label)\n",
        "  test_pred_all.extend(test_pred)\n",
        "  test_label_all.extend(test_label)\n",
        "\n",
        "\n",
        "val_pred_all = np.array(val_pred_all)\n",
        "val_label_all = np.array(val_label_all)\n",
        "test_pred_all = np.array(test_pred_all)\n",
        "test_label_all = np.array(test_label_all)\n",
        "val_f1_micro,val_f1_macro,val_precision_micro,val_precision_macro,val_recall_micro,val_recall_macro,val_acc = evaluate(val_label_all,val_pred_all)\n",
        "test_f1_micro,test_f1_macro,test_precision_micro,test_precision_macro,test_recall_micro,test_recall_macro,test_acc = evaluate(test_label_all,test_pred_all)\n",
        "print(\"validation f1 micro:\", val_f1_micro)\n",
        "print(\"validation f1 macro:\", val_f1_macro)\n",
        "print(\"validation precision micro\", val_precision_micro)\n",
        "print(\"validation precision macro\", val_precision_macro)\n",
        "print(\"validation recall micro\", val_recall_micro)\n",
        "print(\"validation recall macro\", val_recall_macro)\n",
        "print(\"validation accuracy\", val_acc)\n",
        "print(\"test f1 micro:\", test_f1_micro)\n",
        "print(\"test f1 macro:\", test_f1_macro)\n",
        "print(\"test precision micro\", test_precision_micro)\n",
        "print(\"test precision macro\", test_precision_macro)\n",
        "print(\"test recall micro\", test_recall_micro)\n",
        "print(\"test recall macro\", test_recall_macro)\n",
        "print(\"test accuracy\", test_acc)\n",
        "      \n",
        "\n",
        "with open(str(\"DTW__subAll.pck\"), \"wb\") as output_file:\n",
        "    pickle.dump(clf, output_file)"
      ],
      "metadata": {
        "colab": {
          "base_uri": "https://localhost:8080/"
        },
        "id": "mFKz8OifLSSM",
        "outputId": "3e985c4a-bcd3-41e1-e148-7ebcf0450e6a"
      },
      "execution_count": 16,
      "outputs": [
        {
          "output_type": "stream",
          "name": "stdout",
          "text": [
            "validation f1 micro: 0.4544198895027624\n",
            "validation f1 macro: 0.3860815739200112\n",
            "validation precision micro 0.4544198895027624\n",
            "validation precision macro 0.41313415134431924\n",
            "validation recall micro 0.4544198895027624\n",
            "validation recall macro 0.4527210490568368\n",
            "validation accuracy 0.4544198895027624\n",
            "test f1 micro: 0.45994475138121543\n",
            "test f1 macro: 0.3900769155530128\n",
            "test precision micro 0.4599447513812155\n",
            "test precision macro 0.4292798089342084\n",
            "test recall micro 0.4599447513812155\n",
            "test recall macro 0.45834491062332133\n",
            "test accuracy 0.4599447513812155\n"
          ]
        }
      ]
    },
    {
      "cell_type": "code",
      "source": [],
      "metadata": {
        "id": "CCDW8OUePtLx"
      },
      "execution_count": null,
      "outputs": []
    }
  ]
}