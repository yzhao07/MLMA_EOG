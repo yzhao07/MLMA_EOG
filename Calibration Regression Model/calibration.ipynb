{
 "cells": [
  {
   "cell_type": "code",
   "execution_count": 23,
   "metadata": {},
   "outputs": [],
   "source": [
    "import numpy as np\n",
    "import pandas as pd\n",
    "import pickle\n",
    "from sklearn.linear_model import LinearRegression\n",
    "from sklearn.svm import SVR\n",
    "import matplotlib.pyplot as plt"
   ]
  },
  {
   "cell_type": "code",
   "execution_count": 5,
   "metadata": {},
   "outputs": [
    {
     "name": "stdout",
     "output_type": "stream",
     "text": [
      "(9, 2)\n"
     ]
    }
   ],
   "source": [
    "eye_point = np.array([[14, 14], [0, 14], [-14, 14], [14, 0], [0, 0], [-14, 0], [14, -14], [0, -14], [-14, 14]])\n",
    "print(eye_point.shape)"
   ]
  },
  {
   "cell_type": "code",
   "execution_count": 11,
   "metadata": {},
   "outputs": [],
   "source": [
    "root_dir = '/Users/daijin/jhu102/ML for medical applications/project/data/isolated'\n",
    "mode_save_dir = '/Users/daijin/jhu102/ML for medical applications/project/result/calibration model'\n",
    "#file path = root_dir + '/00i/calibration/EOG_00i_01_00n.csv' (i=1,...,6)(n=1,...,9)"
   ]
  },
  {
   "attachments": {},
   "cell_type": "markdown",
   "metadata": {},
   "source": [
    "# linear regression"
   ]
  },
  {
   "cell_type": "code",
   "execution_count": 18,
   "metadata": {},
   "outputs": [
    {
     "name": "stdout",
     "output_type": "stream",
     "text": [
      "R^2 is 0.586568656359865\n",
      "After saving, the loaded model is still same.\n",
      "R^2 is 0.6237754376323736\n",
      "After saving, the loaded model is still same.\n",
      "R^2 is 0.3547791512437535\n",
      "After saving, the loaded model is still same.\n",
      "R^2 is 0.250526604960172\n",
      "After saving, the loaded model is still same.\n",
      "R^2 is 0.3829927932720367\n",
      "After saving, the loaded model is still same.\n",
      "R^2 is 0.3719628962130213\n",
      "After saving, the loaded model is still same.\n"
     ]
    }
   ],
   "source": [
    "for subject_idx in range(1, 7):\n",
    "    x = np.zeros((0, 2))\n",
    "    y = np.zeros((0, 2))\n",
    "    for file_idx in range(1, 10):\n",
    "        file_path = root_dir + '/00' + str(subject_idx) + '/calibration/EOG_00' + str(subject_idx) + '_01_00' + str(file_idx) + '.csv'\n",
    "        file = pd.read_csv(file_path)\n",
    "        x = np.append(x, file.iloc[:, :], axis=0)\n",
    "        yc = np.ones(file.shape)\n",
    "        yc[:, 0] = eye_point[file_idx-1, 0]\n",
    "        yc[:, 1] = eye_point[file_idx-1, 1]\n",
    "        y = np.append(y, yc, axis=0)\n",
    "    reg = LinearRegression().fit(x, y)\n",
    "    p1 = reg.predict(x)\n",
    "    print('R^2 is', reg.score(x, y))\n",
    "    \n",
    "    model_name = mode_save_dir + '/cal_linear_reg_sub' + str(subject_idx) + '.pickle'\n",
    "    # save model\n",
    "    pickle.dump(reg, open(model_name, \"wb\"))\n",
    "    # load model\n",
    "    loaded_model = pickle.load(open(model_name, \"rb\"))\n",
    "    p2 = loaded_model.predict(x)\n",
    "    if np.allclose(p1, p2):\n",
    "        print('After saving, the loaded model is still same.')\n",
    "    else:\n",
    "        print('After saving, the loaded model changes.')"
   ]
  }
 ],
 "metadata": {
  "kernelspec": {
   "display_name": "python39",
   "language": "python",
   "name": "python3"
  },
  "language_info": {
   "codemirror_mode": {
    "name": "ipython",
    "version": 3
   },
   "file_extension": ".py",
   "mimetype": "text/x-python",
   "name": "python",
   "nbconvert_exporter": "python",
   "pygments_lexer": "ipython3",
   "version": "3.9.0"
  },
  "orig_nbformat": 4
 },
 "nbformat": 4,
 "nbformat_minor": 2
}
