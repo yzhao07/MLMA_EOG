{
  "nbformat": 4,
  "nbformat_minor": 0,
  "metadata": {
    "colab": {
      "provenance": []
    },
    "kernelspec": {
      "name": "python3",
      "display_name": "Python 3"
    },
    "language_info": {
      "name": "python"
    }
  },
  "cells": [
    {
      "cell_type": "code",
      "execution_count": 1,
      "metadata": {
        "id": "8OtYi5RtKQrz"
      },
      "outputs": [],
      "source": [
        "import numpy as np\n",
        "import pandas as pd\n",
        "from google.colab import drive\n",
        "import os\n",
        "import torch\n",
        "import torch.nn as nn\n",
        "import torch.optim as optim\n",
        "import torch\n",
        "from torch.utils.data import Dataset, DataLoader\n",
        "import pickle\n",
        "import random\n",
        "from sklearn.model_selection import train_test_split\n",
        "from sklearn.preprocessing import StandardScaler\n",
        "from sklearn.metrics import balanced_accuracy_score,accuracy_score\n",
        "from sklearn.preprocessing import MinMaxScaler\n",
        "from sklearn.metrics import roc_auc_score, f1_score"
      ]
    },
    {
      "cell_type": "code",
      "source": [
        "drive.mount('/content/drive')"
      ],
      "metadata": {
        "colab": {
          "base_uri": "https://localhost:8080/"
        },
        "id": "OkKOjbJwKTyT",
        "outputId": "5467a5f3-a547-4f5a-ea07-f86ad3931e0f"
      },
      "execution_count": 2,
      "outputs": [
        {
          "output_type": "stream",
          "name": "stdout",
          "text": [
            "Mounted at /content/drive\n"
          ]
        }
      ]
    },
    {
      "cell_type": "code",
      "source": [
        "main_dir = 'drive/MyDrive/23Spring-MLMA/isolated/'\n",
        "os.listdir(main_dir)"
      ],
      "metadata": {
        "colab": {
          "base_uri": "https://localhost:8080/"
        },
        "id": "HAMd0H1dK3BD",
        "outputId": "06af3b99-4e7a-48e2-d232-e6998a34bed8"
      },
      "execution_count": 3,
      "outputs": [
        {
          "output_type": "execute_result",
          "data": {
            "text/plain": [
              "['ReadMe',\n",
              " '002',\n",
              " '005',\n",
              " '004',\n",
              " '003',\n",
              " '001',\n",
              " '006',\n",
              " 'RF1.pkl',\n",
              " 'RF0.pkl',\n",
              " 'RF2.pkl',\n",
              " 'RF3.pkl',\n",
              " 'RF4.pkl',\n",
              " 'RF5.pkl',\n",
              " 'RFt_patient_0model_1.pkl',\n",
              " 'RFt_patient_0model_3.pkl',\n",
              " 'RFt_patient_0model_5.pkl',\n",
              " 'RFt_patient_0model_7.pkl',\n",
              " 'RFt_patient_0model_9.pkl',\n",
              " 'RFt_patient_1model_1.pkl',\n",
              " 'RFt_patient_1model_3.pkl',\n",
              " 'RFt_patient_1model_5.pkl',\n",
              " 'RFt_patient_1model_7.pkl',\n",
              " 'RFt_patient_1model_9.pkl',\n",
              " 'RFt_patient_2model_1.pkl',\n",
              " 'RFt_patient_2model_3.pkl',\n",
              " 'RFt_patient_2model_5.pkl',\n",
              " 'RFt_patient_2model_7.pkl',\n",
              " 'RFt_patient_2model_9.pkl',\n",
              " 'RFt_patient_3model_1.pkl',\n",
              " 'RFt_patient_3model_3.pkl',\n",
              " 'RFt_patient_3model_5.pkl',\n",
              " 'RFt_patient_3model_7.pkl',\n",
              " 'RFt_patient_3model_9.pkl',\n",
              " 'RFt_patient_4model_1.pkl',\n",
              " 'RFt_patient_4model_3.pkl',\n",
              " 'RFt_patient_4model_5.pkl',\n",
              " 'RFt_patient_4model_7.pkl',\n",
              " 'RFt_patient_4model_9.pkl',\n",
              " 'RFt_patient_5model_1.pkl',\n",
              " 'RFt_patient_5model_3.pkl',\n",
              " 'RFt_patient_5model_5.pkl',\n",
              " 'RFt_patient_5model_7.pkl',\n",
              " 'RFt_patient_5model_9.pkl',\n",
              " 'XGboost0.pkl',\n",
              " 'XGboost1.pkl',\n",
              " 'XGboost2.pkl',\n",
              " 'XGboost3.pkl',\n",
              " 'XGboost4.pkl',\n",
              " 'XGboost5.pkl',\n",
              " 'XGboost_patient_0model_1.pkl',\n",
              " 'XGboost_patient_0model_3.pkl',\n",
              " 'XGboost_patient_0model_5.pkl',\n",
              " 'XGboost_patient_0model_7.pkl',\n",
              " 'XGboost_patient_0model_9.pkl',\n",
              " 'XGboost_patient_1model_1.pkl',\n",
              " 'XGboost_patient_1model_3.pkl',\n",
              " 'XGboost_patient_1model_5.pkl',\n",
              " 'XGboost_patient_1model_7.pkl',\n",
              " 'XGboost_patient_1model_9.pkl',\n",
              " 'XGboost_patient_2model_1.pkl',\n",
              " 'XGboost_patient_2model_3.pkl',\n",
              " 'XGboost_patient_2model_5.pkl',\n",
              " 'XGboost_patient_2model_7.pkl',\n",
              " 'XGboost_patient_2model_9.pkl',\n",
              " 'XGboost_patient_3model_1.pkl',\n",
              " 'XGboost_patient_3model_3.pkl',\n",
              " 'XGboost_patient_3model_5.pkl',\n",
              " 'XGboost_patient_3model_7.pkl',\n",
              " 'XGboost_patient_3model_9.pkl',\n",
              " 'XGboost_patient_4model_1.pkl',\n",
              " 'XGboost_patient_4model_3.pkl',\n",
              " 'XGboost_patient_4model_5.pkl',\n",
              " 'XGboost_patient_4model_7.pkl',\n",
              " 'XGboost_patient_4model_9.pkl',\n",
              " 'XGboost_patient_5model_1.pkl',\n",
              " 'XGboost_patient_5model_3.pkl',\n",
              " 'XGboost_patient_5model_5.pkl',\n",
              " 'XGboost_patient_5model_7.pkl',\n",
              " 'XGboost_patient_5model_9.pkl']"
            ]
          },
          "metadata": {},
          "execution_count": 3
        }
      ]
    },
    {
      "cell_type": "markdown",
      "source": [
        "# Split on patient level - User-independent\n",
        "\n",
        "\n",
        "> 6-fold cross-validation\n",
        "\n",
        "\n",
        "\n"
      ],
      "metadata": {
        "id": "-btOaAyBLRIw"
      }
    },
    {
      "cell_type": "code",
      "source": [
        "# get data\n",
        "def get_original_feature_label(path):\n",
        "    # scale both vertical and horizontal between 0 and 1\n",
        "    scaler = MinMaxScaler()\n",
        "    feature = []\n",
        "    label = []\n",
        "    for i in os.listdir(path):\n",
        "        a = pd.read_csv(str(path+i),names=[\"vertical\",\"horizontal\"])\n",
        "        a = np.array(a)\n",
        "        a = scaler.fit_transform(a)\n",
        "        a = np.swapaxes(a,0,1)\n",
        "        feature.append(a)\n",
        "        if i.endswith(\"001.csv\"):\n",
        "            label.append(0)\n",
        "        elif i.endswith(\"002.csv\"):\n",
        "            label.append(1)\n",
        "        elif i.endswith(\"003.csv\"):\n",
        "            label.append(2)\n",
        "        elif i.endswith(\"004.csv\"):\n",
        "            label.append(3)\n",
        "        elif i.endswith(\"005.csv\"):\n",
        "            label.append(4)\n",
        "        elif i.endswith(\"006.csv\"):\n",
        "            label.append(5)\n",
        "        elif i.endswith(\"007.csv\"):\n",
        "            label.append(6)\n",
        "        elif i.endswith(\"008.csv\"):\n",
        "            label.append(7)\n",
        "        elif i.endswith(\"009.csv\"):\n",
        "            label.append(8)\n",
        "        elif i.endswith(\"010.csv\"):\n",
        "            label.append(9)\n",
        "        elif i.endswith(\"011.csv\"):\n",
        "            label.append(10)\n",
        "        elif i.endswith(\"012.csv\"):\n",
        "            label.append(11)\n",
        "    \n",
        "    return feature,label"
      ],
      "metadata": {
        "id": "xnO-Yz1DLKsN"
      },
      "execution_count": 16,
      "outputs": []
    },
    {
      "cell_type": "code",
      "source": [
        "from sklearn.ensemble import RandomForestClassifier\n",
        "def train(train_feature,train_label,test_feature,test_label,num):\n",
        "    # 定义模型\n",
        "    model = RandomForestClassifier(n_estimators=100, random_state=42)\n",
        "\n",
        "    # 训练模型\n",
        "    model.fit(train_feature, train_label)#,eval_set=[(test_feature, test_label)])\n",
        "\n",
        "    # 预测测试集\n",
        "    y_pred_p = model.predict_proba(test_feature)\n",
        "    y_pred = model.predict(test_feature)\n",
        "\n",
        "    # 计算准确率\n",
        "    accuracy = (y_pred == test_label).sum() / len(test_label)\n",
        "    auc = roc_auc_score(test_label, y_pred_p, multi_class='ovr')\n",
        "    average_method = 'macro' # 'macro' 或 'micro' 或 'weighted'\n",
        "    f1 = f1_score(test_label, y_pred,average=average_method)#, multi_class='ovr')\n",
        "    print('Accuracy:', accuracy)\n",
        "    print('AUC:', auc)\n",
        "    print('F1:', f1)\n",
        "\n",
        "    # 保存模型\n",
        "    pickle.dump(model, open(main_dir+\"RF\"+str(num)+\".pkl\", 'wb'))\n",
        "\n",
        "    return accuracy,auc,f1"
      ],
      "metadata": {
        "id": "ZoUePO2kWLjk"
      },
      "execution_count": 18,
      "outputs": []
    },
    {
      "cell_type": "code",
      "source": [
        "patient_all = [\"001\",'002','003','004','005','006']\n",
        "accl = [];aucl = []; f1l = []\n",
        "for j in range(6):\n",
        "  patient = [patient_all[j]]\n",
        "  test_feature = []\n",
        "  test_label = []\n",
        "  for i in patient:\n",
        "      f,l = get_original_feature_label(str(main_dir+i+\"/isolated_strokes/\"))\n",
        "      for x in f:\n",
        "          test_feature.append(x)         \n",
        "      for x in l:\n",
        "          test_label.append(x)\n",
        "  print(patient)\n",
        "  print(len(test_feature))\n",
        "  test_feature = np.reshape(test_feature,(np.shape(test_feature)[0],-1))\n",
        "\n",
        "  patient = [x for x in patient_all if x != patient_all[j]]\n",
        "  print(patient)\n",
        "  train_feature = []\n",
        "  train_label = []\n",
        "  for i in patient:\n",
        "      f,l = get_original_feature_label(str(main_dir+i+\"/isolated_strokes/\"))\n",
        "      for x in f:\n",
        "          train_feature.append(x)         \n",
        "      for x in l:\n",
        "          train_label.append(x)\n",
        "  print(len(train_feature))\n",
        "  train_feature = np.reshape(train_feature,(np.shape(train_feature)[0],-1))\n",
        "  acc, auc, f1 = train(train_feature,train_label,test_feature,test_label,j)\n",
        "  accl.append(acc)\n",
        "  aucl.append(auc)\n",
        "  f1l.append(f1)\n",
        "  # print(acc)"
      ],
      "metadata": {
        "colab": {
          "base_uri": "https://localhost:8080/"
        },
        "id": "YTbU9EPcnf6p",
        "outputId": "5c3bd871-f8fd-438d-90ce-7bba3df6fffc"
      },
      "execution_count": 19,
      "outputs": [
        {
          "output_type": "stream",
          "name": "stdout",
          "text": [
            "['001']\n",
            "120\n",
            "['002', '003', '004', '005', '006']\n",
            "604\n",
            "Accuracy: 0.6416666666666667\n",
            "AUC: 0.9297727272727273\n",
            "F1: 0.6194706029264853\n",
            "['002']\n",
            "120\n",
            "['001', '003', '004', '005', '006']\n",
            "604\n",
            "Accuracy: 0.8583333333333333\n",
            "AUC: 0.9960606060606061\n",
            "F1: 0.8580665865495587\n",
            "['003']\n",
            "122\n",
            "['001', '002', '004', '005', '006']\n",
            "602\n",
            "Accuracy: 0.5655737704918032\n",
            "AUC: 0.9523250726375726\n",
            "F1: 0.5467135188102007\n",
            "['004']\n",
            "121\n",
            "['001', '002', '003', '005', '006']\n",
            "603\n",
            "Accuracy: 0.6115702479338843\n",
            "AUC: 0.9181740624922443\n",
            "F1: 0.5968008516537929\n",
            "['005']\n",
            "120\n",
            "['001', '002', '003', '004', '006']\n",
            "604\n",
            "Accuracy: 0.7\n",
            "AUC: 0.974225048651654\n",
            "F1: 0.6806288629787195\n",
            "['006']\n",
            "121\n",
            "['001', '002', '003', '004', '005']\n",
            "603\n",
            "Accuracy: 0.7851239669421488\n",
            "AUC: 0.9753750651477925\n",
            "F1: 0.7685583071612484\n"
          ]
        }
      ]
    },
    {
      "cell_type": "code",
      "source": [
        "np.mean(aucl)"
      ],
      "metadata": {
        "colab": {
          "base_uri": "https://localhost:8080/"
        },
        "id": "3GVouoiXZB34",
        "outputId": "59798f3d-7687-4848-bfe3-892c91883ace"
      },
      "execution_count": 20,
      "outputs": [
        {
          "output_type": "execute_result",
          "data": {
            "text/plain": [
              "0.9576554303770995"
            ]
          },
          "metadata": {},
          "execution_count": 20
        }
      ]
    },
    {
      "cell_type": "code",
      "source": [
        "print(np.mean(accl))"
      ],
      "metadata": {
        "colab": {
          "base_uri": "https://localhost:8080/"
        },
        "id": "Umt2zaqpr9xZ",
        "outputId": "86db2257-0bc2-4c47-f55e-8019bf6fe7e8"
      },
      "execution_count": 7,
      "outputs": [
        {
          "output_type": "stream",
          "name": "stdout",
          "text": [
            "0.6937113308946395\n"
          ]
        }
      ]
    },
    {
      "cell_type": "code",
      "source": [
        "print(np.mean(f1l))"
      ],
      "metadata": {
        "colab": {
          "base_uri": "https://localhost:8080/"
        },
        "id": "O7wXaHThSsvS",
        "outputId": "2d4ed819-481c-47cd-de81-e99bc979b124"
      },
      "execution_count": 8,
      "outputs": [
        {
          "output_type": "stream",
          "name": "stdout",
          "text": [
            "0.6783731216800009\n"
          ]
        }
      ]
    },
    {
      "cell_type": "markdown",
      "source": [
        "# User-dependent\n",
        "\n",
        "\n",
        "> 5-fold cross-validation\n",
        "\n",
        "\n",
        "\n"
      ],
      "metadata": {
        "id": "XqN8XFDOyrjJ"
      }
    },
    {
      "cell_type": "code",
      "source": [
        "# get data\n",
        "def get_original_feature_label(path, t1, t2):\n",
        "    # scale both vertical and horizontal between 0 and 1\n",
        "    scaler = MinMaxScaler()\n",
        "    feature = []\n",
        "    label = []\n",
        "    if t2==0:\n",
        "        num = len(os.listdir(path))-2\n",
        "    else:\n",
        "        num = 2\n",
        "    for i in os.listdir(path):\n",
        "        a = pd.read_csv(str(path+i),names=[\"vertical\",\"horizontal\"])\n",
        "        a = np.array(a)\n",
        "        a = scaler.fit_transform(a)\n",
        "        a = np.swapaxes(a,0,1)\n",
        "        if (t1==1)&(t2!=0)&((i[8:10]==\"01\") or (i[8:10]==\"02\")):\n",
        "            feature.append(a)\n",
        "            if i.endswith(\"001.csv\"):\n",
        "                label.append(0)\n",
        "            elif i.endswith(\"002.csv\"):\n",
        "                label.append(1)\n",
        "            elif i.endswith(\"003.csv\"):\n",
        "                label.append(2)\n",
        "            elif i.endswith(\"004.csv\"):\n",
        "                label.append(3)\n",
        "            elif i.endswith(\"005.csv\"):\n",
        "                label.append(4)\n",
        "            elif i.endswith(\"006.csv\"):\n",
        "                label.append(5)\n",
        "            elif i.endswith(\"007.csv\"):\n",
        "                label.append(6)\n",
        "            elif i.endswith(\"008.csv\"):\n",
        "                label.append(7)\n",
        "            elif i.endswith(\"009.csv\"):\n",
        "                label.append(8)\n",
        "            elif i.endswith(\"010.csv\"):\n",
        "                label.append(9)\n",
        "            elif i.endswith(\"011.csv\"):\n",
        "                label.append(10)\n",
        "            elif i.endswith(\"012.csv\"):\n",
        "                label.append(11)\n",
        "            continue\n",
        "        if (t1==3)&(t2!=0)&((i[8:10]==\"03\") or (i[8:10]==\"04\")):\n",
        "            feature.append(a)\n",
        "            if i.endswith(\"001.csv\"):\n",
        "                label.append(0)\n",
        "            elif i.endswith(\"002.csv\"):\n",
        "                label.append(1)\n",
        "            elif i.endswith(\"003.csv\"):\n",
        "                label.append(2)\n",
        "            elif i.endswith(\"004.csv\"):\n",
        "                label.append(3)\n",
        "            elif i.endswith(\"005.csv\"):\n",
        "                label.append(4)\n",
        "            elif i.endswith(\"006.csv\"):\n",
        "                label.append(5)\n",
        "            elif i.endswith(\"007.csv\"):\n",
        "                label.append(6)\n",
        "            elif i.endswith(\"008.csv\"):\n",
        "                label.append(7)\n",
        "            elif i.endswith(\"009.csv\"):\n",
        "                label.append(8)\n",
        "            elif i.endswith(\"010.csv\"):\n",
        "                label.append(9)\n",
        "            elif i.endswith(\"011.csv\"):\n",
        "                label.append(10)\n",
        "            elif i.endswith(\"012.csv\"):\n",
        "                label.append(11)\n",
        "            continue\n",
        "        if (t1==5)&(t2!=0)&((i[8:10]==\"05\") or (i[8:10]==\"06\")):\n",
        "            feature.append(a)\n",
        "            if i.endswith(\"001.csv\"):\n",
        "                label.append(0)\n",
        "            elif i.endswith(\"002.csv\"):\n",
        "                label.append(1)\n",
        "            elif i.endswith(\"003.csv\"):\n",
        "                label.append(2)\n",
        "            elif i.endswith(\"004.csv\"):\n",
        "                label.append(3)\n",
        "            elif i.endswith(\"005.csv\"):\n",
        "                label.append(4)\n",
        "            elif i.endswith(\"006.csv\"):\n",
        "                label.append(5)\n",
        "            elif i.endswith(\"007.csv\"):\n",
        "                label.append(6)\n",
        "            elif i.endswith(\"008.csv\"):\n",
        "                label.append(7)\n",
        "            elif i.endswith(\"009.csv\"):\n",
        "                label.append(8)\n",
        "            elif i.endswith(\"010.csv\"):\n",
        "                label.append(9)\n",
        "            elif i.endswith(\"011.csv\"):\n",
        "                label.append(10)\n",
        "            elif i.endswith(\"012.csv\"):\n",
        "                label.append(11)\n",
        "            continue\n",
        "        if (t1==7)&(t2!=0)&((i[8:10]==\"07\") or (i[8:10]==\"08\")):\n",
        "            feature.append(a)\n",
        "            if i.endswith(\"001.csv\"):\n",
        "                label.append(0)\n",
        "            elif i.endswith(\"002.csv\"):\n",
        "                label.append(1)\n",
        "            elif i.endswith(\"003.csv\"):\n",
        "                label.append(2)\n",
        "            elif i.endswith(\"004.csv\"):\n",
        "                label.append(3)\n",
        "            elif i.endswith(\"005.csv\"):\n",
        "                label.append(4)\n",
        "            elif i.endswith(\"006.csv\"):\n",
        "                label.append(5)\n",
        "            elif i.endswith(\"007.csv\"):\n",
        "                label.append(6)\n",
        "            elif i.endswith(\"008.csv\"):\n",
        "                label.append(7)\n",
        "            elif i.endswith(\"009.csv\"):\n",
        "                label.append(8)\n",
        "            elif i.endswith(\"010.csv\"):\n",
        "                label.append(9)\n",
        "            elif i.endswith(\"011.csv\"):\n",
        "                label.append(10)\n",
        "            elif i.endswith(\"012.csv\"):\n",
        "                label.append(11)\n",
        "            continue\n",
        "        if (t1==9)&(t2!=0)&((i[8:10]==\"09\") or (i[8:10]==\"10\")):\n",
        "            feature.append(a)\n",
        "            if i.endswith(\"001.csv\"):\n",
        "                label.append(0)\n",
        "            elif i.endswith(\"002.csv\"):\n",
        "                label.append(1)\n",
        "            elif i.endswith(\"003.csv\"):\n",
        "                label.append(2)\n",
        "            elif i.endswith(\"004.csv\"):\n",
        "                label.append(3)\n",
        "            elif i.endswith(\"005.csv\"):\n",
        "                label.append(4)\n",
        "            elif i.endswith(\"006.csv\"):\n",
        "                label.append(5)\n",
        "            elif i.endswith(\"007.csv\"):\n",
        "                label.append(6)\n",
        "            elif i.endswith(\"008.csv\"):\n",
        "                label.append(7)\n",
        "            elif i.endswith(\"009.csv\"):\n",
        "                label.append(8)\n",
        "            elif i.endswith(\"010.csv\"):\n",
        "                label.append(9)\n",
        "            elif i.endswith(\"011.csv\"):\n",
        "                label.append(10)\n",
        "            elif i.endswith(\"012.csv\"):\n",
        "                label.append(11)\n",
        "            continue\n",
        "\n",
        "        if (t1==1)&(t2==0)&((i[8:10]==\"01\") or (i[8:10]==\"02\")):\n",
        "           continue\n",
        "        if (t1==3)&(t2==0)&((i[8:10]==\"03\") or (i[8:10]==\"04\")):\n",
        "           continue\n",
        "        if (t1==5)&(t2==0)&((i[8:10]==\"05\") or (i[8:10]==\"06\")):\n",
        "           continue\n",
        "        if (t1==7)&(t2==0)&((i[8:10]==\"07\") or (i[8:10]==\"08\")):\n",
        "           continue\n",
        "        if (t1==9)&(t2==0)&((i[8:10]==\"09\") or (i[8:10]==\"10\")):\n",
        "           continue\n",
        "\n",
        "        if (t2==0):\n",
        "          feature.append(a)\n",
        "          if i.endswith(\"001.csv\"):\n",
        "              label.append(0)\n",
        "          elif i.endswith(\"002.csv\"):\n",
        "              label.append(1)\n",
        "          elif i.endswith(\"003.csv\"):\n",
        "              label.append(2)\n",
        "          elif i.endswith(\"004.csv\"):\n",
        "              label.append(3)\n",
        "          elif i.endswith(\"005.csv\"):\n",
        "              label.append(4)\n",
        "          elif i.endswith(\"006.csv\"):\n",
        "              label.append(5)\n",
        "          elif i.endswith(\"007.csv\"):\n",
        "              label.append(6)\n",
        "          elif i.endswith(\"008.csv\"):\n",
        "              label.append(7)\n",
        "          elif i.endswith(\"009.csv\"):\n",
        "              label.append(8)\n",
        "          elif i.endswith(\"010.csv\"):\n",
        "              label.append(9)\n",
        "          elif i.endswith(\"011.csv\"):\n",
        "              label.append(10)\n",
        "          elif i.endswith(\"012.csv\"):\n",
        "              label.append(11)\n",
        "        \n",
        "    \n",
        "    return feature,label"
      ],
      "metadata": {
        "id": "U1KV8N6uhofI"
      },
      "execution_count": 21,
      "outputs": []
    },
    {
      "cell_type": "code",
      "source": [
        "from sklearn.ensemble import RandomForestClassifier\n",
        "def train(train_feature,train_label,test_feature,test_label,num,p):\n",
        "    # 定义模型\n",
        "    model = RandomForestClassifier(n_estimators=100, random_state=42)\n",
        "\n",
        "    # 训练模型\n",
        "    model.fit(train_feature, train_label)#,eval_set=[(test_feature, test_label)])\n",
        "\n",
        "    # 预测测试集\n",
        "    y_pred_p = model.predict_proba(test_feature)\n",
        "    y_pred = model.predict(test_feature)\n",
        "\n",
        "    # 计算准确率\n",
        "    accuracy = (y_pred == test_label).sum() / len(test_label)\n",
        "    auc = roc_auc_score(test_label, y_pred_p, multi_class='ovr')\n",
        "    average_method = 'macro' # 'macro' 或 'micro' 或 'weighted'\n",
        "    f1 = f1_score(test_label, y_pred,average=average_method)#, multi_class='ovr')\n",
        "    print('Accuracy:', accuracy)\n",
        "    print('AUC:', auc)\n",
        "    print('F1:', f1)\n",
        "\n",
        "    # 保存模型\n",
        "    pickle.dump(model, open(main_dir+\"RFt_patient_\"+str(p)+\"model_\"+str(num)+\".pkl\", 'wb'))\n",
        "\n",
        "    return accuracy,auc,f1"
      ],
      "metadata": {
        "id": "LcNHLhDZVwym"
      },
      "execution_count": 22,
      "outputs": []
    },
    {
      "cell_type": "code",
      "source": [
        "patient_all = [\"001\",'002','003','004','005','006']\n",
        "acc_p = []; auc_p = []; f1_p = []\n",
        "for j in range(6):\n",
        "\n",
        "  patient_model = patient_all[j]\n",
        "  patient_path = str(main_dir+patient_model+\"/isolated_strokes/\")\n",
        "  accl = []; aucl = []; f1l = []\n",
        "\n",
        "  for i in range(1,10,2):\n",
        "    train_feature = []\n",
        "    train_label = []\n",
        "    f,l = get_original_feature_label(patient_path,i,0)\n",
        "    for x in f:\n",
        "        train_feature.append(x)         \n",
        "    for x in l:\n",
        "        train_label.append(x)\n",
        "    print(len(train_label))\n",
        "\n",
        "    test_feature = []\n",
        "    test_label = []\n",
        "    f,l = get_original_feature_label(patient_path,i,1)\n",
        "    for x in f:\n",
        "        test_feature.append(x)         \n",
        "    for x in l:\n",
        "        test_label.append(x)\n",
        "    print(len(test_label))\n",
        "    \n",
        "    test_feature = np.reshape(test_feature,(np.shape(test_feature)[0],-1))\n",
        "    train_feature = np.reshape(train_feature,(np.shape(train_feature)[0],-1))\n",
        "    acc,auc,f1 = train(train_feature,train_label,test_feature,test_label,i,j)\n",
        "    accl.append(acc)\n",
        "    aucl.append(auc)\n",
        "    f1l.append(f1)\n",
        "    # print(acc)\n",
        "  acc_p.append(np.mean(accl))\n",
        "  auc_p.append(np.mean(aucl))\n",
        "  f1_p.append(np.mean(f1l))"
      ],
      "metadata": {
        "id": "K9Ak-VzQyryU",
        "colab": {
          "base_uri": "https://localhost:8080/"
        },
        "outputId": "5088966d-8d99-40d7-82c2-10f859af796e"
      },
      "execution_count": 23,
      "outputs": [
        {
          "output_type": "stream",
          "name": "stdout",
          "text": [
            "96\n",
            "24\n",
            "Accuracy: 0.7916666666666666\n",
            "AUC: 0.9905303030303031\n",
            "F1: 0.7861111111111111\n",
            "96\n",
            "24\n",
            "Accuracy: 0.9583333333333334\n",
            "AUC: 1.0\n",
            "F1: 0.9555555555555556\n",
            "96\n",
            "24\n",
            "Accuracy: 0.7083333333333334\n",
            "AUC: 0.9753787878787877\n",
            "F1: 0.6861111111111112\n",
            "96\n",
            "24\n",
            "Accuracy: 0.9583333333333334\n",
            "AUC: 0.9962121212121211\n",
            "F1: 0.9555555555555556\n",
            "96\n",
            "24\n",
            "Accuracy: 0.9583333333333334\n",
            "AUC: 0.9924242424242423\n",
            "F1: 0.9555555555555556\n",
            "96\n",
            "24\n",
            "Accuracy: 0.9583333333333334\n",
            "AUC: 0.9990530303030303\n",
            "F1: 0.9555555555555556\n",
            "96\n",
            "24\n",
            "Accuracy: 0.8333333333333334\n",
            "AUC: 0.9943181818181818\n",
            "F1: 0.8333333333333331\n",
            "96\n",
            "24\n",
            "Accuracy: 0.9583333333333334\n",
            "AUC: 1.0\n",
            "F1: 0.9555555555555556\n",
            "96\n",
            "24\n",
            "Accuracy: 1.0\n",
            "AUC: 1.0\n",
            "F1: 1.0\n",
            "96\n",
            "24\n",
            "Accuracy: 0.9166666666666666\n",
            "AUC: 0.9981060606060606\n",
            "F1: 0.9138888888888889\n",
            "98\n",
            "24\n",
            "Accuracy: 0.75\n",
            "AUC: 0.9810606060606061\n",
            "F1: 0.7111111111111111\n",
            "98\n",
            "24\n",
            "Accuracy: 0.8333333333333334\n",
            "AUC: 0.975378787878788\n",
            "F1: 0.8333333333333334\n",
            "98\n",
            "24\n",
            "Accuracy: 0.9166666666666666\n",
            "AUC: 0.9990530303030303\n",
            "F1: 0.9111111111111111\n",
            "98\n",
            "24\n",
            "Accuracy: 0.8333333333333334\n",
            "AUC: 0.9829545454545454\n",
            "F1: 0.8250000000000001\n",
            "98\n",
            "24\n",
            "Accuracy: 0.7916666666666666\n",
            "AUC: 0.9659090909090908\n",
            "F1: 0.7555555555555555\n",
            "97\n",
            "24\n",
            "Accuracy: 0.5416666666666666\n",
            "AUC: 0.8901515151515151\n",
            "F1: 0.5041666666666667\n",
            "97\n",
            "24\n",
            "Accuracy: 0.8333333333333334\n",
            "AUC: 0.9678030303030303\n",
            "F1: 0.7999999999999999\n",
            "97\n",
            "24\n",
            "Accuracy: 0.9166666666666666\n",
            "AUC: 0.9791666666666666\n",
            "F1: 0.9138888888888889\n",
            "97\n",
            "24\n",
            "Accuracy: 0.7083333333333334\n",
            "AUC: 0.9517045454545454\n",
            "F1: 0.6555555555555556\n",
            "97\n",
            "24\n",
            "Accuracy: 0.75\n",
            "AUC: 0.9365530303030303\n",
            "F1: 0.7444444444444445\n",
            "96\n",
            "24\n",
            "Accuracy: 0.7916666666666666\n",
            "AUC: 0.9839015151515151\n",
            "F1: 0.777777777777778\n",
            "96\n",
            "24\n",
            "Accuracy: 0.8333333333333334\n",
            "AUC: 0.9962121212121211\n",
            "F1: 0.8250000000000001\n",
            "96\n",
            "24\n",
            "Accuracy: 0.9166666666666666\n",
            "AUC: 1.0\n",
            "F1: 0.911111111111111\n",
            "96\n",
            "24\n",
            "Accuracy: 0.875\n",
            "AUC: 0.9943181818181818\n",
            "F1: 0.8666666666666667\n",
            "97\n",
            "23\n",
            "Accuracy: 0.9130434782608695\n",
            "AUC: 0.9920634920634921\n",
            "F1: 0.8555555555555556\n",
            "97\n",
            "24\n",
            "Accuracy: 0.8333333333333334\n",
            "AUC: 0.9895833333333334\n",
            "F1: 0.8365079365079365\n",
            "97\n",
            "24\n",
            "Accuracy: 0.9583333333333334\n",
            "AUC: 0.9981060606060606\n",
            "F1: 0.9555555555555556\n",
            "97\n",
            "24\n",
            "Accuracy: 0.9166666666666666\n",
            "AUC: 1.0\n",
            "F1: 0.911111111111111\n",
            "97\n",
            "24\n",
            "Accuracy: 0.875\n",
            "AUC: 0.9981060606060606\n",
            "F1: 0.8694444444444445\n",
            "97\n",
            "24\n",
            "Accuracy: 0.9166666666666666\n",
            "AUC: 0.9981060606060606\n",
            "F1: 0.911111111111111\n"
          ]
        }
      ]
    },
    {
      "cell_type": "code",
      "source": [
        "acc_p"
      ],
      "metadata": {
        "colab": {
          "base_uri": "https://localhost:8080/"
        },
        "id": "gah83p0bvKDV",
        "outputId": "eb2a52d5-cb19-4557-c616-c4fe0b234afe"
      },
      "execution_count": 12,
      "outputs": [
        {
          "output_type": "execute_result",
          "data": {
            "text/plain": [
              "[0.875, 0.9333333333333333, 0.825, 0.75, 0.8659420289855072, 0.9]"
            ]
          },
          "metadata": {},
          "execution_count": 12
        }
      ]
    },
    {
      "cell_type": "code",
      "source": [
        "np.mean(acc_p)"
      ],
      "metadata": {
        "colab": {
          "base_uri": "https://localhost:8080/"
        },
        "id": "lKxpHVXgge4i",
        "outputId": "312338a9-88ef-4051-9e69-f6ff6637fdb5"
      },
      "execution_count": 13,
      "outputs": [
        {
          "output_type": "execute_result",
          "data": {
            "text/plain": [
              "0.8582125603864735"
            ]
          },
          "metadata": {},
          "execution_count": 13
        }
      ]
    },
    {
      "cell_type": "code",
      "source": [
        "np.mean(f1_p)"
      ],
      "metadata": {
        "colab": {
          "base_uri": "https://localhost:8080/"
        },
        "id": "ANbYRRgbS55u",
        "outputId": "9c8512ac-5941-47ec-d7bb-e1c060c148fc"
      },
      "execution_count": 14,
      "outputs": [
        {
          "output_type": "execute_result",
          "data": {
            "text/plain": [
              "0.845707671957672"
            ]
          },
          "metadata": {},
          "execution_count": 14
        }
      ]
    },
    {
      "cell_type": "code",
      "source": [
        "np.mean(auc_p)"
      ],
      "metadata": {
        "colab": {
          "base_uri": "https://localhost:8080/"
        },
        "id": "J__4_Q0iS7XI",
        "outputId": "a599edcd-c60d-4cf3-df9e-dccd36a8bbfc"
      },
      "execution_count": 24,
      "outputs": [
        {
          "output_type": "execute_result",
          "data": {
            "text/plain": [
              "0.9842051467051468"
            ]
          },
          "metadata": {},
          "execution_count": 24
        }
      ]
    },
    {
      "cell_type": "code",
      "source": [],
      "metadata": {
        "id": "Piu-6nvaZIQ8"
      },
      "execution_count": null,
      "outputs": []
    }
  ]
}