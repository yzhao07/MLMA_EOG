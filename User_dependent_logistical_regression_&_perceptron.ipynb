{
  "nbformat": 4,
  "nbformat_minor": 0,
  "metadata": {
    "colab": {
      "provenance": [],
      "authorship_tag": "ABX9TyOWPeRRZjkcuJ81bWXc9MmL",
      "include_colab_link": true
    },
    "kernelspec": {
      "name": "python3",
      "display_name": "Python 3"
    },
    "language_info": {
      "name": "python"
    }
  },
  "cells": [
    {
      "cell_type": "markdown",
      "metadata": {
        "id": "view-in-github",
        "colab_type": "text"
      },
      "source": [
        "<a href=\"https://colab.research.google.com/github/yzhao07/MLMA_EOG/blob/main/User_dependent_logistical_regression_%26_perceptron.ipynb\" target=\"_parent\"><img src=\"https://colab.research.google.com/assets/colab-badge.svg\" alt=\"Open In Colab\"/></a>"
      ]
    },
    {
      "cell_type": "code",
      "source": [
        "import numpy as np\n",
        "import pandas as pd\n",
        "from google.colab import drive\n",
        "from sklearn.linear_model import Perceptron, LogisticRegression\n",
        "from sklearn.metrics import accuracy_score, confusion_matrix, f1_score, roc_auc_score\n",
        "from sklearn.preprocessing import label_binarize\n",
        "from sklearn.calibration import CalibratedClassifierCV\n",
        "import numpy as np\n",
        "import os\n",
        "import pandas as pd\n",
        "from sklearn.preprocessing import MinMaxScaler"
      ],
      "metadata": {
        "id": "Z4gpxLsVqEMI"
      },
      "execution_count": 5,
      "outputs": []
    },
    {
      "cell_type": "code",
      "source": [
        "import pickle\n"
      ],
      "metadata": {
        "id": "5ZkL5vzd2_Dd"
      },
      "execution_count": 11,
      "outputs": []
    },
    {
      "cell_type": "code",
      "source": [
        "\n",
        "drive.mount('/content/drive')"
      ],
      "metadata": {
        "colab": {
          "base_uri": "https://localhost:8080/"
        },
        "id": "SVxG3gq50d1C",
        "outputId": "59b32b7d-c96a-4cff-8757-e8dfcafd09ac"
      },
      "execution_count": 6,
      "outputs": [
        {
          "output_type": "stream",
          "name": "stdout",
          "text": [
            "Mounted at /content/drive\n"
          ]
        }
      ]
    },
    {
      "cell_type": "code",
      "source": [
        "main_dir = '/content/drive/MyDrive/S1Database/isolated/'\n",
        "os.listdir(main_dir)"
      ],
      "metadata": {
        "colab": {
          "base_uri": "https://localhost:8080/"
        },
        "id": "L97SCfqi0dRq",
        "outputId": "023337d9-71c0-461d-eb0d-3e2519a26bed"
      },
      "execution_count": 7,
      "outputs": [
        {
          "output_type": "execute_result",
          "data": {
            "text/plain": [
              "['ReadMe', '004', '002', '006', '003', '005', '001']"
            ]
          },
          "metadata": {},
          "execution_count": 7
        }
      ]
    },
    {
      "cell_type": "code",
      "source": [
        "# get data\n",
        "def get_original_feature_label(path, t1, t2):\n",
        "    # scale both vertical and horizontal between 0 and 1\n",
        "    scaler = MinMaxScaler()\n",
        "    feature = []\n",
        "    label = []\n",
        "    if t2==0:\n",
        "        num = len(os.listdir(path))-2\n",
        "    else:\n",
        "        num = 2\n",
        "    for i in os.listdir(path):\n",
        "        a = pd.read_csv(str(path+i),names=[\"vertical\",\"horizontal\"])\n",
        "        a = np.array(a)\n",
        "        a = scaler.fit_transform(a)\n",
        "        a = np.swapaxes(a,0,1)\n",
        "        if (t1==1)&(t2!=0)&((i[8:10]==\"01\") or (i[8:10]==\"02\")):\n",
        "            feature.append(a)\n",
        "            if i.endswith(\"001.csv\"):\n",
        "                label.append(0)\n",
        "            elif i.endswith(\"002.csv\"):\n",
        "                label.append(1)\n",
        "            elif i.endswith(\"003.csv\"):\n",
        "                label.append(2)\n",
        "            elif i.endswith(\"004.csv\"):\n",
        "                label.append(3)\n",
        "            elif i.endswith(\"005.csv\"):\n",
        "                label.append(4)\n",
        "            elif i.endswith(\"006.csv\"):\n",
        "                label.append(5)\n",
        "            elif i.endswith(\"007.csv\"):\n",
        "                label.append(6)\n",
        "            elif i.endswith(\"008.csv\"):\n",
        "                label.append(7)\n",
        "            elif i.endswith(\"009.csv\"):\n",
        "                label.append(8)\n",
        "            elif i.endswith(\"010.csv\"):\n",
        "                label.append(9)\n",
        "            elif i.endswith(\"011.csv\"):\n",
        "                label.append(10)\n",
        "            elif i.endswith(\"012.csv\"):\n",
        "                label.append(11)\n",
        "            continue\n",
        "        if (t1==3)&(t2!=0)&((i[8:10]==\"03\") or (i[8:10]==\"04\")):\n",
        "            feature.append(a)\n",
        "            if i.endswith(\"001.csv\"):\n",
        "                label.append(0)\n",
        "            elif i.endswith(\"002.csv\"):\n",
        "                label.append(1)\n",
        "            elif i.endswith(\"003.csv\"):\n",
        "                label.append(2)\n",
        "            elif i.endswith(\"004.csv\"):\n",
        "                label.append(3)\n",
        "            elif i.endswith(\"005.csv\"):\n",
        "                label.append(4)\n",
        "            elif i.endswith(\"006.csv\"):\n",
        "                label.append(5)\n",
        "            elif i.endswith(\"007.csv\"):\n",
        "                label.append(6)\n",
        "            elif i.endswith(\"008.csv\"):\n",
        "                label.append(7)\n",
        "            elif i.endswith(\"009.csv\"):\n",
        "                label.append(8)\n",
        "            elif i.endswith(\"010.csv\"):\n",
        "                label.append(9)\n",
        "            elif i.endswith(\"011.csv\"):\n",
        "                label.append(10)\n",
        "            elif i.endswith(\"012.csv\"):\n",
        "                label.append(11)\n",
        "            continue\n",
        "        if (t1==5)&(t2!=0)&((i[8:10]==\"05\") or (i[8:10]==\"06\")):\n",
        "            feature.append(a)\n",
        "            if i.endswith(\"001.csv\"):\n",
        "                label.append(0)\n",
        "            elif i.endswith(\"002.csv\"):\n",
        "                label.append(1)\n",
        "            elif i.endswith(\"003.csv\"):\n",
        "                label.append(2)\n",
        "            elif i.endswith(\"004.csv\"):\n",
        "                label.append(3)\n",
        "            elif i.endswith(\"005.csv\"):\n",
        "                label.append(4)\n",
        "            elif i.endswith(\"006.csv\"):\n",
        "                label.append(5)\n",
        "            elif i.endswith(\"007.csv\"):\n",
        "                label.append(6)\n",
        "            elif i.endswith(\"008.csv\"):\n",
        "                label.append(7)\n",
        "            elif i.endswith(\"009.csv\"):\n",
        "                label.append(8)\n",
        "            elif i.endswith(\"010.csv\"):\n",
        "                label.append(9)\n",
        "            elif i.endswith(\"011.csv\"):\n",
        "                label.append(10)\n",
        "            elif i.endswith(\"012.csv\"):\n",
        "                label.append(11)\n",
        "            continue\n",
        "        if (t1==7)&(t2!=0)&((i[8:10]==\"07\") or (i[8:10]==\"08\")):\n",
        "            feature.append(a)\n",
        "            if i.endswith(\"001.csv\"):\n",
        "                label.append(0)\n",
        "            elif i.endswith(\"002.csv\"):\n",
        "                label.append(1)\n",
        "            elif i.endswith(\"003.csv\"):\n",
        "                label.append(2)\n",
        "            elif i.endswith(\"004.csv\"):\n",
        "                label.append(3)\n",
        "            elif i.endswith(\"005.csv\"):\n",
        "                label.append(4)\n",
        "            elif i.endswith(\"006.csv\"):\n",
        "                label.append(5)\n",
        "            elif i.endswith(\"007.csv\"):\n",
        "                label.append(6)\n",
        "            elif i.endswith(\"008.csv\"):\n",
        "                label.append(7)\n",
        "            elif i.endswith(\"009.csv\"):\n",
        "                label.append(8)\n",
        "            elif i.endswith(\"010.csv\"):\n",
        "                label.append(9)\n",
        "            elif i.endswith(\"011.csv\"):\n",
        "                label.append(10)\n",
        "            elif i.endswith(\"012.csv\"):\n",
        "                label.append(11)\n",
        "            continue\n",
        "        if (t1==9)&(t2!=0)&((i[8:10]==\"09\") or (i[8:10]==\"10\")):\n",
        "            feature.append(a)\n",
        "            if i.endswith(\"001.csv\"):\n",
        "                label.append(0)\n",
        "            elif i.endswith(\"002.csv\"):\n",
        "                label.append(1)\n",
        "            elif i.endswith(\"003.csv\"):\n",
        "                label.append(2)\n",
        "            elif i.endswith(\"004.csv\"):\n",
        "                label.append(3)\n",
        "            elif i.endswith(\"005.csv\"):\n",
        "                label.append(4)\n",
        "            elif i.endswith(\"006.csv\"):\n",
        "                label.append(5)\n",
        "            elif i.endswith(\"007.csv\"):\n",
        "                label.append(6)\n",
        "            elif i.endswith(\"008.csv\"):\n",
        "                label.append(7)\n",
        "            elif i.endswith(\"009.csv\"):\n",
        "                label.append(8)\n",
        "            elif i.endswith(\"010.csv\"):\n",
        "                label.append(9)\n",
        "            elif i.endswith(\"011.csv\"):\n",
        "                label.append(10)\n",
        "            elif i.endswith(\"012.csv\"):\n",
        "                label.append(11)\n",
        "            continue\n",
        "\n",
        "        if (t1==1)&(t2==0)&((i[8:10]==\"01\") or (i[8:10]==\"02\")):\n",
        "           continue\n",
        "        if (t1==3)&(t2==0)&((i[8:10]==\"03\") or (i[8:10]==\"04\")):\n",
        "           continue\n",
        "        if (t1==5)&(t2==0)&((i[8:10]==\"05\") or (i[8:10]==\"06\")):\n",
        "           continue\n",
        "        if (t1==7)&(t2==0)&((i[8:10]==\"07\") or (i[8:10]==\"08\")):\n",
        "           continue\n",
        "        if (t1==9)&(t2==0)&((i[8:10]==\"09\") or (i[8:10]==\"10\")):\n",
        "           continue\n",
        "\n",
        "        if (t2==0):\n",
        "          feature.append(a)\n",
        "          if i.endswith(\"001.csv\"):\n",
        "              label.append(0)\n",
        "          elif i.endswith(\"002.csv\"):\n",
        "              label.append(1)\n",
        "          elif i.endswith(\"003.csv\"):\n",
        "              label.append(2)\n",
        "          elif i.endswith(\"004.csv\"):\n",
        "              label.append(3)\n",
        "          elif i.endswith(\"005.csv\"):\n",
        "              label.append(4)\n",
        "          elif i.endswith(\"006.csv\"):\n",
        "              label.append(5)\n",
        "          elif i.endswith(\"007.csv\"):\n",
        "              label.append(6)\n",
        "          elif i.endswith(\"008.csv\"):\n",
        "              label.append(7)\n",
        "          elif i.endswith(\"009.csv\"):\n",
        "              label.append(8)\n",
        "          elif i.endswith(\"010.csv\"):\n",
        "              label.append(9)\n",
        "          elif i.endswith(\"011.csv\"):\n",
        "              label.append(10)\n",
        "          elif i.endswith(\"012.csv\"):\n",
        "              label.append(11)\n",
        "        \n",
        "    \n",
        "    return feature,label"
      ],
      "metadata": {
        "id": "8aVVBffJqK4b"
      },
      "execution_count": 8,
      "outputs": []
    },
    {
      "cell_type": "code",
      "execution_count": 16,
      "metadata": {
        "colab": {
          "base_uri": "https://localhost:8080/"
        },
        "id": "odaR_yICp1pR",
        "outputId": "290198af-42e9-4fc7-d3e2-481259282994"
      },
      "outputs": [
        {
          "output_type": "stream",
          "name": "stdout",
          "text": [
            "Mean Accuracies: [0.8333333333333334, 0.925, 0.7875, 0.7541666666666667, 0.8568840579710144, 0.875]\n",
            "Mean F1 Scores: [0.8003571428571428, 0.9216666666666669, 0.7474999999999999, 0.7089285714285714, 0.8440510697032437, 0.8552777777777777]\n",
            "Mean AUCs: [0.9803030303030302, 0.9907196969696969, 0.965340909090909, 0.9428030303030303, 0.9863059947299077, 0.9890151515151515]\n"
          ]
        }
      ],
      "source": [
        "from sklearn.metrics import accuracy_score, confusion_matrix, f1_score, roc_auc_score\n",
        "from sklearn.preprocessing import label_binarize\n",
        "import numpy as np\n",
        "import pickle\n",
        "import warnings\n",
        "from sklearn.exceptions import ConvergenceWarning\n",
        "\n",
        "warnings.filterwarnings(\"ignore\", category=ConvergenceWarning)\n",
        "\n",
        "# Add this function to train and evaluate the models for a given patient\n",
        "def evaluate_models_for_patient(patient_path, train_func):\n",
        "    accuracies = []\n",
        "    f1_scores = []\n",
        "    aucs = []\n",
        "\n",
        "    for i in range(1, 10, 2):\n",
        "        train_feature, train_label = get_original_feature_label(patient_path, i, 0)\n",
        "        test_feature, test_label = get_original_feature_label(patient_path, i, 1)\n",
        "\n",
        "        train_feature_flat = [x.flatten() for x in train_feature]\n",
        "        test_feature_flat = [x.flatten() for x in test_feature]\n",
        "\n",
        "        accuracy, f1, auc = train_func(train_feature_flat, train_label, test_feature_flat, test_label)\n",
        "        accuracies.append(accuracy)\n",
        "        f1_scores.append(f1)\n",
        "        aucs.append(auc)\n",
        "\n",
        "    return np.mean(accuracies), np.mean(f1_scores), np.mean(aucs)\n",
        "\n",
        "# Add a function to train and evaluate the perceptron and logistic regression models\n",
        "def train_perceptron_logistic(train_feature, train_label, test_feature, test_label):\n",
        "    calibrated_perceptron.fit(train_feature, train_label)\n",
        "    calibrated_logistic_regression.fit(train_feature, train_label)\n",
        "\n",
        "    perceptron_predictions = calibrated_perceptron.predict(test_feature)\n",
        "    logistic_regression_predictions = calibrated_logistic_regression.predict(test_feature)\n",
        "\n",
        "    perceptron_probabilities = calibrated_perceptron.predict_proba(test_feature)\n",
        "    logistic_regression_probabilities = calibrated_logistic_regression.predict_proba(test_feature)\n",
        "\n",
        "    test_label_binarized = label_binarize(test_label, classes=np.arange(12))\n",
        "\n",
        "    perceptron_accuracy = accuracy_score(test_label, perceptron_predictions)\n",
        "    perceptron_f1 = f1_score(test_label, perceptron_predictions, average='weighted')\n",
        "    perceptron_auc = roc_auc_score(test_label_binarized, perceptron_probabilities, multi_class='ovo', average='weighted')\n",
        "\n",
        "    logistic_regression_accuracy = accuracy_score(test_label, logistic_regression_predictions)\n",
        "    logistic_regression_f1 = f1_score(test_label, logistic_regression_predictions, average='weighted')\n",
        "    logistic_regression_auc = roc_auc_score(test_label_binarized, logistic_regression_probabilities, multi_class='ovo', average='weighted')\n",
        "\n",
        "    # Return the average of the two models' performance metrics\n",
        "    mean_accuracy = (perceptron_accuracy + logistic_regression_accuracy) / 2\n",
        "    mean_f1 = (perceptron_f1 + logistic_regression_f1) / 2\n",
        "    mean_auc = (perceptron_auc + logistic_regression_auc) / 2\n",
        "\n",
        "    return mean_accuracy, mean_f1, mean_auc\n",
        "\n",
        "# Run this code to calculate mean accuracy, AUC, and F1 score for 6 patients\n",
        "patient_all = [\"001\", '002', '003', '004', '005', '006']\n",
        "mean_accuracies = []\n",
        "mean_f1_scores = []\n",
        "mean_aucs = []\n",
        "\n",
        "for patient_model in patient_all:\n",
        "    patient_path = str(main_dir + patient_model + \"/isolated_strokes/\")\n",
        "    mean_accuracy, mean_f1, mean_auc = evaluate_models_for_patient(patient_path, train_perceptron_logistic)\n",
        "    mean_accuracies.append(mean_accuracy)\n",
        "    mean_f1_scores.append(mean_f1)\n",
        "    mean_aucs.append(mean_auc)\n",
        "\n",
        "print(\"Mean Accuracies:\", mean_accuracies)\n",
        "print(\"Mean F1 Scores:\", mean_f1_scores)\n",
        "print(\"Mean AUCs:\", mean_aucs)\n"
      ]
    },
    {
      "cell_type": "code",
      "source": [],
      "metadata": {
        "id": "9BbK_2F7p9kQ"
      },
      "execution_count": null,
      "outputs": []
    }
  ]
}