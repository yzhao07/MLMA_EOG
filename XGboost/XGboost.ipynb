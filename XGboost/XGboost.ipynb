{
  "nbformat": 4,
  "nbformat_minor": 0,
  "metadata": {
    "colab": {
      "provenance": []
    },
    "kernelspec": {
      "name": "python3",
      "display_name": "Python 3"
    },
    "language_info": {
      "name": "python"
    }
  },
  "cells": [
    {
      "cell_type": "code",
      "execution_count": 39,
      "metadata": {
        "id": "8OtYi5RtKQrz"
      },
      "outputs": [],
      "source": [
        "import numpy as np\n",
        "import pandas as pd\n",
        "from google.colab import drive\n",
        "import os\n",
        "import torch\n",
        "import torch.nn as nn\n",
        "import torch.optim as optim\n",
        "import torch\n",
        "from torch.utils.data import Dataset, DataLoader\n",
        "import pickle\n",
        "import random\n",
        "from sklearn.model_selection import train_test_split\n",
        "from sklearn.preprocessing import StandardScaler\n",
        "from sklearn.metrics import balanced_accuracy_score,accuracy_score\n",
        "from sklearn.preprocessing import MinMaxScaler"
      ]
    },
    {
      "cell_type": "code",
      "source": [
        "drive.mount('/content/drive')"
      ],
      "metadata": {
        "colab": {
          "base_uri": "https://localhost:8080/"
        },
        "id": "OkKOjbJwKTyT",
        "outputId": "bcf85049-202b-4e50-813c-cb0bd9bbc765"
      },
      "execution_count": 40,
      "outputs": [
        {
          "output_type": "stream",
          "name": "stdout",
          "text": [
            "Drive already mounted at /content/drive; to attempt to forcibly remount, call drive.mount(\"/content/drive\", force_remount=True).\n"
          ]
        }
      ]
    },
    {
      "cell_type": "code",
      "source": [
        "main_dir = 'drive/MyDrive/23Spring-MLMA/isolated/'\n",
        "os.listdir(main_dir)"
      ],
      "metadata": {
        "colab": {
          "base_uri": "https://localhost:8080/"
        },
        "id": "HAMd0H1dK3BD",
        "outputId": "c4c60385-2b2e-4a6e-f06c-f121b72ef4b5"
      },
      "execution_count": 41,
      "outputs": [
        {
          "output_type": "execute_result",
          "data": {
            "text/plain": [
              "['ReadMe', '001', '002', '003', '004', '005', '006']"
            ]
          },
          "metadata": {},
          "execution_count": 41
        }
      ]
    },
    {
      "cell_type": "code",
      "source": [
        "# get data\n",
        "def get_original_feature_label(path):\n",
        "    # scale both vertical and horizontal between 0 and 1\n",
        "    scaler = MinMaxScaler()\n",
        "    feature = []\n",
        "    label = []\n",
        "    for i in os.listdir(path):\n",
        "        a = pd.read_csv(str(path+i),names=[\"vertical\",\"horizontal\"])\n",
        "        a = np.array(a)\n",
        "        a = scaler.fit_transform(a)\n",
        "        a = np.swapaxes(a,0,1)\n",
        "        feature.append(a)\n",
        "        if i.endswith(\"001.csv\"):\n",
        "            label.append(0)\n",
        "        elif i.endswith(\"002.csv\"):\n",
        "            label.append(1)\n",
        "        elif i.endswith(\"003.csv\"):\n",
        "            label.append(2)\n",
        "        elif i.endswith(\"004.csv\"):\n",
        "            label.append(3)\n",
        "        elif i.endswith(\"005.csv\"):\n",
        "            label.append(4)\n",
        "        elif i.endswith(\"006.csv\"):\n",
        "            label.append(5)\n",
        "        elif i.endswith(\"007.csv\"):\n",
        "            label.append(6)\n",
        "        elif i.endswith(\"008.csv\"):\n",
        "            label.append(7)\n",
        "        elif i.endswith(\"009.csv\"):\n",
        "            label.append(8)\n",
        "        elif i.endswith(\"010.csv\"):\n",
        "            label.append(9)\n",
        "        elif i.endswith(\"011.csv\"):\n",
        "            label.append(10)\n",
        "        elif i.endswith(\"012.csv\"):\n",
        "            label.append(11)\n",
        "    \n",
        "    return feature,label"
      ],
      "metadata": {
        "id": "xnO-Yz1DLKsN"
      },
      "execution_count": 42,
      "outputs": []
    },
    {
      "cell_type": "markdown",
      "source": [
        "# Split on patient level - User-independent\n",
        "\n",
        "\n",
        "> 6-fold cross-validation\n",
        "\n",
        "\n",
        "\n"
      ],
      "metadata": {
        "id": "-btOaAyBLRIw"
      }
    },
    {
      "cell_type": "code",
      "source": [
        "patient = [\"001\",'002','003','004','005']\n",
        "train_feature = []\n",
        "train_label = []\n",
        "for i in patient:\n",
        "    f,l = get_original_feature_label(str(main_dir+i+\"/isolated_strokes/\"))\n",
        "    for x in f:\n",
        "        train_feature.append(x)         \n",
        "    for x in l:\n",
        "        train_label.append(x)\n",
        "print(len(train_feature))\n",
        "train_feature = np.reshape(train_feature,(np.shape(train_feature)[0],-1))\n",
        "\n",
        "patient = [\"006\"]\n",
        "test_feature = []\n",
        "test_label = []\n",
        "for i in patient:\n",
        "    f,l = get_original_feature_label(str(main_dir+i+\"/isolated_strokes/\"))\n",
        "    for x in f:\n",
        "        test_feature.append(x)         \n",
        "    for x in l:\n",
        "        test_label.append(x)\n",
        "print(len(test_feature))\n",
        "test_feature = np.reshape(test_feature,(np.shape(test_feature)[0],-1))"
      ],
      "metadata": {
        "colab": {
          "base_uri": "https://localhost:8080/"
        },
        "id": "9j3cw6KgLQwb",
        "outputId": "edae5ee1-7b8e-45d5-d42a-a4373f617e9e"
      },
      "execution_count": 24,
      "outputs": [
        {
          "output_type": "stream",
          "name": "stdout",
          "text": [
            "603\n",
            "121\n"
          ]
        }
      ]
    },
    {
      "cell_type": "code",
      "source": [
        "import xgboost as xgb\n",
        "# 定义模型\n",
        "model = xgb.XGBClassifier(objective='multi:softmax', num_class=12)\n",
        "\n",
        "# 训练模型\n",
        "model.fit(train_feature, train_label)\n",
        "\n",
        "# 预测测试集\n",
        "y_pred = model.predict(test_feature)\n",
        "\n",
        "# 计算准确率\n",
        "accuracy = (y_pred == test_label).sum() / len(test_label)\n",
        "print('Accuracy:', accuracy)"
      ],
      "metadata": {
        "colab": {
          "base_uri": "https://localhost:8080/"
        },
        "id": "KX11zOEcLWse",
        "outputId": "611be75c-33d8-428e-c873-e93ec4a70a6d"
      },
      "execution_count": 27,
      "outputs": [
        {
          "output_type": "stream",
          "name": "stdout",
          "text": [
            "Accuracy: 0.7355371900826446\n"
          ]
        }
      ]
    },
    {
      "cell_type": "code",
      "source": [
        "import xgboost as xgb\n",
        "def train(train_feature,train_label,test_feature,test_label,num):\n",
        "    # 定义模型\n",
        "    model = xgb.XGBClassifier(objective='multi:softmax', num_class=12, random_state=42)\n",
        "\n",
        "    # 训练模型\n",
        "    model.fit(train_feature, train_label)\n",
        "\n",
        "    # 预测测试集\n",
        "    y_pred = model.predict(test_feature)\n",
        "\n",
        "    # 计算准确率\n",
        "    accuracy = (y_pred == test_label).sum() / len(test_label)\n",
        "    print('Accuracy:', accuracy)\n",
        "\n",
        "    # 保存模型\n",
        "    pickle.dump(model, open(main_dir+\"XGboost\"+str(num)+\".pkl\", 'wb'))\n",
        "\n",
        "    return accuracy"
      ],
      "metadata": {
        "id": "GourRlsosEd4"
      },
      "execution_count": 52,
      "outputs": []
    },
    {
      "cell_type": "code",
      "source": [
        "patient_all = [\"001\",'002','003','004','005','006']\n",
        "acc = []\n",
        "for j in range(6):\n",
        "  patient = [patient_all[j]]\n",
        "  test_feature = []\n",
        "  test_label = []\n",
        "  for i in patient:\n",
        "      f,l = get_original_feature_label(str(main_dir+i+\"/isolated_strokes/\"))\n",
        "      for x in f:\n",
        "          test_feature.append(x)         \n",
        "      for x in l:\n",
        "          test_label.append(x)\n",
        "  print(patient)\n",
        "  print(len(test_feature))\n",
        "  test_feature = np.reshape(test_feature,(np.shape(test_feature)[0],-1))\n",
        "\n",
        "  patient = [x for x in patient_all if x != patient_all[j]]\n",
        "  print(patient)\n",
        "  train_feature = []\n",
        "  train_label = []\n",
        "  for i in patient:\n",
        "      f,l = get_original_feature_label(str(main_dir+i+\"/isolated_strokes/\"))\n",
        "      for x in f:\n",
        "          train_feature.append(x)         \n",
        "      for x in l:\n",
        "          train_label.append(x)\n",
        "  print(len(train_feature))\n",
        "  train_feature = np.reshape(train_feature,(np.shape(train_feature)[0],-1))\n",
        "  acc.append(train(train_feature,train_label,test_feature,test_label,j))\n",
        "  print(acc)"
      ],
      "metadata": {
        "colab": {
          "base_uri": "https://localhost:8080/"
        },
        "id": "YTbU9EPcnf6p",
        "outputId": "06d4429c-5dcd-4d73-ead3-4a34dbec4982"
      },
      "execution_count": 53,
      "outputs": [
        {
          "output_type": "stream",
          "name": "stdout",
          "text": [
            "['001']\n",
            "120\n",
            "['002', '003', '004', '005', '006']\n",
            "604\n",
            "Accuracy: 0.6\n",
            "[0.6]\n",
            "['002']\n",
            "120\n",
            "['001', '003', '004', '005', '006']\n",
            "604\n",
            "Accuracy: 0.7916666666666666\n",
            "[0.6, 0.7916666666666666]\n",
            "['003']\n",
            "122\n",
            "['001', '002', '004', '005', '006']\n",
            "602\n",
            "Accuracy: 0.5409836065573771\n",
            "[0.6, 0.7916666666666666, 0.5409836065573771]\n",
            "['004']\n",
            "121\n",
            "['001', '002', '003', '005', '006']\n",
            "603\n",
            "Accuracy: 0.5867768595041323\n",
            "[0.6, 0.7916666666666666, 0.5409836065573771, 0.5867768595041323]\n",
            "['005']\n",
            "120\n",
            "['001', '002', '003', '004', '006']\n",
            "604\n",
            "Accuracy: 0.6916666666666667\n",
            "[0.6, 0.7916666666666666, 0.5409836065573771, 0.5867768595041323, 0.6916666666666667]\n",
            "['006']\n",
            "121\n",
            "['001', '002', '003', '004', '005']\n",
            "603\n",
            "Accuracy: 0.7355371900826446\n",
            "[0.6, 0.7916666666666666, 0.5409836065573771, 0.5867768595041323, 0.6916666666666667, 0.7355371900826446]\n"
          ]
        }
      ]
    },
    {
      "cell_type": "code",
      "source": [
        "print(np.mean(acc))"
      ],
      "metadata": {
        "colab": {
          "base_uri": "https://localhost:8080/"
        },
        "id": "Umt2zaqpr9xZ",
        "outputId": "9712f904-ca83-4391-d645-d85be01a0689"
      },
      "execution_count": 54,
      "outputs": [
        {
          "output_type": "stream",
          "name": "stdout",
          "text": [
            "0.6577718315795812\n"
          ]
        }
      ]
    }
  ]
}